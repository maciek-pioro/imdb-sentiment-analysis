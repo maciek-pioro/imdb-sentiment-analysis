{
  "cells": [
    {
      "cell_type": "markdown",
      "metadata": {
        "id": "6VBJpAMzglRo"
      },
      "source": [
        "# RetinaMNIST with rotations\n",
        "\n",
        "In this exercise your goal will be to solve an object detection training and prediction task using the anchor-based approach.\n",
        "**As a part of your solution you should provide a report summarizing your findings and results of the conducted experiments.**\n",
        "\n",
        "##TLDR; overview\n",
        "\n",
        "In this task one should:\n",
        "- determine the size of the feasible anchors for the object detection task posed in this Assignment,\n",
        "- build an object detection model using the variant of `RetinaNet`,\n",
        "- prepare a matching suite which will match predicted anchors with ground truth bounding boxes,\n",
        "- train an object detection model using a variant of `RetinaLoss`.\n",
        "\n",
        "Hints and comments:\n",
        "\n",
        "- Model architecture and loss are heavily inspired by [RetinaNet](https://arxiv.org/pdf/1708.02002.pdf) paper,\n",
        "- you can freely subclass and extend the interface of classes in this exercise,\n",
        "- be sure that you understand the concept of an anchor for object detection, covered during the lecture about Object Detection. There are many great tutorials and articles about it (e.g. [this](https://towardsdatascience.com/anchor-boxes-the-key-to-quality-object-detection-ddf9d612d4f9) one, note however that we are not implementing ignoring boxes for simplicity).\n",
        "\n",
        "### Data description\n",
        "\n",
        "In this task we will paste bounding boxes with digits **from 1 to 5** randomly selected from `MNIST` dataset on a canvas of size `(128, 128)` and **randomly flipped by 90 degrees**. We assume that:\n",
        "\n",
        "- the two boxes from a canvas should have no more than `0.1` of `iou` overlap,\n",
        "- the digits are fully contained in canvas,\n",
        "- boxes are modeled using `MnistBox` class,\n",
        "- canvas is modeled using `MnistCanvas` class.\n",
        "\n",
        "Let us have a look at definition of these classes:"
      ]
    },
    {
      "cell_type": "code",
      "execution_count": null,
      "metadata": {
        "id": "L1rAdIiRq2G8"
      },
      "outputs": [],
      "source": [
        "from typing import List\n",
        "from typing import Optional\n",
        "from typing import Tuple\n",
        "\n",
        "import matplotlib.pyplot as plt\n",
        "import matplotlib.patches as patches\n",
        "import numpy as np\n",
        "import torch\n",
        "\n",
        "\n",
        "DEVICE = torch.device('cuda' if torch.cuda.is_available() else 'cpu')\n",
        "class MnistBox:\n",
        "\n",
        "    def __init__(\n",
        "        self,\n",
        "        x_min: int,\n",
        "        y_min: int,\n",
        "        x_max: int,\n",
        "        y_max: int,\n",
        "        class_nb: Optional[int] = None,\n",
        "        rotated: Optional[bool] = None,\n",
        "    ):\n",
        "        self.x_min = x_min\n",
        "        self.x_max = x_max\n",
        "        self.y_min = y_min\n",
        "        self.y_max = y_max\n",
        "        self.class_nb = class_nb\n",
        "        self.rotated = rotated\n",
        "    \n",
        "    @property\n",
        "    def x_diff(self):\n",
        "        return self.x_max - self.x_min\n",
        "    \n",
        "    @property\n",
        "    def y_diff(self):\n",
        "        return self.y_max - self.y_min\n",
        "\n",
        "    def __repr__(self):\n",
        "        return f'Mnist Box: x_min = {self.x_min},' +\\\n",
        "               f' x_max = {self.x_max}, y_min = {self.y_min},' +\\\n",
        "               f' y_max = {self.y_max}. Class = {self.class_nb}.' +\\\n",
        "               f' Rotated = {self.rotated}.'\n",
        "\n",
        "    def plot_on_ax(self, ax, color: Optional[str] = 'r'):\n",
        "        if type(self.y_min) == torch.Tensor:\n",
        "            ax.add_patch(\n",
        "                patches.Rectangle(\n",
        "                    (self.y_min.to('cpu'), self.x_min.to('cpu')),\n",
        "                     self.y_diff.to('cpu'),\n",
        "                     self.x_diff.to('cpu'),\n",
        "                     linewidth=1,\n",
        "                     edgecolor=color,\n",
        "                     facecolor='none',\n",
        "                )\n",
        "            )\n",
        "            ax.text(\n",
        "                self.y_min,\n",
        "                self.x_min,\n",
        "                f'{self.class_nb}' if not self.rotated else f'{self.class_nb}*',\n",
        "                bbox={\"facecolor\": color, \"alpha\": 0.4},\n",
        "                clip_box=ax.clipbox,\n",
        "                clip_on=True,\n",
        "            )\n",
        "        else:\n",
        "            ax.add_patch(\n",
        "                patches.Rectangle(\n",
        "                    (self.y_min, self.x_min),\n",
        "                     self.y_diff,\n",
        "                     self.x_diff,\n",
        "                     linewidth=1,\n",
        "                     edgecolor=color,\n",
        "                     facecolor='none',\n",
        "                )\n",
        "            )\n",
        "            ax.text(\n",
        "                self.y_min,\n",
        "                self.x_min,\n",
        "                f'{self.class_nb}' if not self.rotated else f'{self.class_nb}*',\n",
        "                bbox={\"facecolor\": color, \"alpha\": 0.4},\n",
        "                clip_box=ax.clipbox,\n",
        "                clip_on=True,\n",
        "            )\n",
        "\n",
        "    @property\n",
        "    def area(self):\n",
        "        return max((self.x_max - self.x_min), 0) * max((self.y_max - self.y_min), 0)\n",
        "\n",
        "    def iou_with(self, other_box: \"MnistBox\"):\n",
        "        aux_box = MnistBox(\n",
        "            x_min=max(self.x_min, other_box.x_min),\n",
        "            x_max=min(self.x_max, other_box.x_max),\n",
        "            y_min=max(self.y_min, other_box.y_min),\n",
        "            y_max=min(self.y_max, other_box.y_max),\n",
        "        ) \n",
        "        return aux_box.area / (self.area + other_box.area - aux_box.area)\n",
        "\n",
        "\n",
        "class MnistCanvas:\n",
        "\n",
        "    def __init__(\n",
        "        self,\n",
        "        image: np.ndarray,\n",
        "        boxes: List[MnistBox],\n",
        "    ):\n",
        "        self.image = image\n",
        "        self.boxes = boxes\n",
        "\n",
        "    def add_digit(\n",
        "        self,\n",
        "        digit: np.ndarray,\n",
        "        class_nb: int,\n",
        "        x_min: int,\n",
        "        y_min: int,\n",
        "        rotated=None,\n",
        "        iou_threshold=0.1,\n",
        "    ) -> bool:\n",
        "        \"\"\"\n",
        "        Add a digit to an image if it does not overlap with existing boxes\n",
        "        above iou_threshold.\n",
        "        \"\"\"\n",
        "        image_x, image_y = digit.shape\n",
        "        if x_min >= self.image.shape[0] and y_min >= self.image.shape[1]:\n",
        "            raise ValueError('Wrong initial corner box')\n",
        "        new_box_x_min = x_min\n",
        "        new_box_y_min = y_min\n",
        "        new_box_x_max = min(x_min + image_x, self.image.shape[0])\n",
        "        new_box_y_max = min(y_min + image_y, self.image.shape[1])\n",
        "        new_box = MnistBox(\n",
        "            x_min=new_box_x_min,\n",
        "            x_max=new_box_x_max,\n",
        "            y_min=new_box_y_min,\n",
        "            y_max=new_box_y_max,\n",
        "            class_nb=class_nb,\n",
        "            rotated=rotated,\n",
        "        )\n",
        "        old_background = self.image[\n",
        "            new_box_x_min:new_box_x_max,\n",
        "            new_box_y_min:new_box_y_max\n",
        "        ]\n",
        "        for box in self.boxes:\n",
        "            if new_box.iou_with(box) > iou_threshold:\n",
        "                return False\n",
        "        self.image[\n",
        "            new_box_x_min:new_box_x_max,\n",
        "            new_box_y_min:new_box_y_max\n",
        "        ] = np.maximum(old_background, digit)\n",
        "        self.boxes.append(\n",
        "            new_box\n",
        "        ) \n",
        "        return True\n",
        "        \n",
        "    def get_torch_tensor(self) -> torch.Tensor:\n",
        "        np_image = self.image.astype('float32')\n",
        "        np_image = np_image.reshape(\n",
        "            (1, 1, self.image.shape[0], self.image.shape[1])\n",
        "        )\n",
        "        return torch.from_numpy(np_image).to(DEVICE)\n",
        "\n",
        "    @classmethod\n",
        "    def get_empty_of_size(cls, size: Tuple[int, int]):\n",
        "        return cls(\n",
        "            image=np.zeros(size),\n",
        "            boxes=[],\n",
        "        )\n",
        "\n",
        "    def plot(self, boxes: Optional[List[MnistBox]] = None):\n",
        "        fig, ax = plt.subplots()\n",
        "        ax.imshow(self.image)\n",
        "        boxes = boxes or self.boxes\n",
        "        for box in boxes:\n",
        "            box.plot_on_ax(ax)\n",
        "        plt.show()"
      ]
    },
    {
      "cell_type": "markdown",
      "metadata": {
        "id": "NWMxgsgFtlze"
      },
      "source": [
        "Each canvas has 3-6 boxes with randomly selected digits. The digits for training data are from first 10K examples from `MNIST` train data. The digits for test data are selected from first 1K examples from `MNIST` test data. The Dataset is generated using the following functions:"
      ]
    },
    {
      "cell_type": "code",
      "execution_count": null,
      "metadata": {
        "colab": {
          "base_uri": "https://localhost:8080/"
        },
        "id": "HezSZXw4z-cx",
        "outputId": "4f3f29aa-d51c-49e7-bb54-8da1a0272053"
      },
      "outputs": [
        {
          "name": "stderr",
          "output_type": "stream",
          "text": [
            "2021-12-15 11:04:11.802171: W tensorflow/stream_executor/platform/default/dso_loader.cc:64] Could not load dynamic library 'libcudart.so.11.0'; dlerror: libcudart.so.11.0: cannot open shared object file: No such file or directory\n",
            "2021-12-15 11:04:11.802187: I tensorflow/stream_executor/cuda/cudart_stub.cc:29] Ignore above cudart dlerror if you do not have a GPU set up on your machine.\n"
          ]
        }
      ],
      "source": [
        "from keras.datasets import mnist\n",
        "import numpy as np\n",
        "\n",
        "\n",
        "mnist_data = mnist.load_data()\n",
        "(mnist_x_train, mnist_y_train), (mnist_x_test, mnist_y_test) = mnist_data\n",
        "\n",
        "\n",
        "def crop_insignificant_values(digit:np.ndarray, threshold=0.1):\n",
        "    bool_digit = digit > threshold\n",
        "    x_range = bool_digit.max(axis=0)\n",
        "    y_range = bool_digit.max(axis=1)\n",
        "    start_x = (x_range.cumsum() == 0).sum()\n",
        "    end_x = (x_range[::-1].cumsum() == 0).sum()\n",
        "    start_y = (y_range.cumsum() == 0).sum()\n",
        "    end_y = (y_range[::-1].cumsum() == 0).sum()\n",
        "    return digit[start_y:-end_y - 1, start_x:-end_x - 1]\n",
        "\n",
        "\n",
        "TRAIN_DIGITS = [\n",
        "    crop_insignificant_values(digit) / 255.0\n",
        "    for digit_index, digit in enumerate(mnist_x_train[:10000])\n",
        "]\n",
        "TRAIN_CLASSES = mnist_y_train[:10000]\n",
        "\n",
        "TEST_DIGITS = [\n",
        "    crop_insignificant_values(digit) / 255.0\n",
        "    for digit_index, digit in enumerate(mnist_x_test[:1000])\n",
        "]\n",
        "TEST_CLASSES = mnist_y_test[:1000]\n",
        "\n",
        "\n",
        "def get_random_canvas(\n",
        "    digits: Optional[List[np.ndarray]] = None,\n",
        "    classes: Optional[List[int]] = None,\n",
        "    nb_of_digits: Optional[int] = None,\n",
        "    ):\n",
        "    digits = digits if digits is not None else TRAIN_DIGITS\n",
        "    classes = classes if classes is not None else TRAIN_CLASSES\n",
        "    nb_of_digits = nb_of_digits if nb_of_digits is not None else np.random.randint(low=3, high=6 + 1)\n",
        "    new_canvas = MnistCanvas.get_empty_of_size(size=(128, 128))\n",
        "    attempts_done = 0\n",
        "    while attempts_done < nb_of_digits:\n",
        "        current_digit_index = np.random.randint(len(digits))\n",
        "        current_digit_class = classes[current_digit_index]\n",
        "        if current_digit_class not in [1, 2, 3, 4, 5]:\n",
        "            continue\n",
        "        rotate = np.random.random() > 0.5\n",
        "        current_digit = digits[current_digit_index]\n",
        "        if rotate:\n",
        "            current_digit = np.rot90(current_digit)\n",
        "        random_x_min = np.random.randint(0, 128 - current_digit.shape[0] - 3)\n",
        "        random_y_min = np.random.randint(0, 128 - current_digit.shape[1] - 3)\n",
        "        if new_canvas.add_digit(\n",
        "            digit=current_digit,\n",
        "            x_min=random_x_min,\n",
        "            y_min=random_y_min,\n",
        "            class_nb=current_digit_class,\n",
        "            rotated=rotate,\n",
        "        ):\n",
        "            attempts_done += 1\n",
        "    return new_canvas"
      ]
    },
    {
      "cell_type": "markdown",
      "metadata": {
        "id": "5i2OjUEC7eaC"
      },
      "source": [
        "Let us have a look at example canvas (rotated digits have additional *added to description)."
      ]
    },
    {
      "cell_type": "code",
      "execution_count": null,
      "metadata": {
        "colab": {
          "base_uri": "https://localhost:8080/",
          "height": 268
        },
        "id": "OsLpINOtvhd8",
        "outputId": "a9ecde1e-641a-458b-966f-d328da795846"
      },
      "outputs": [
        {
          "data": {
            "image/png": "[encoded data removed]",
            "text/plain": [
              "<Figure size 432x288 with 1 Axes>"
            ]
          },
          "metadata": {
            "needs_background": "light"
          },
          "output_type": "display_data"
        }
      ],
      "source": [
        "mnist_canvas = get_random_canvas()\n",
        "mnist_canvas.plot()"
      ]
    },
    {
      "cell_type": "markdown",
      "metadata": {
        "id": "4QkpHGiOCnng"
      },
      "source": [
        "Now - let us generate test canvas:"
      ]
    },
    {
      "cell_type": "code",
      "execution_count": null,
      "metadata": {
        "colab": {
          "base_uri": "https://localhost:8080/",
          "height": 268
        },
        "id": "PV410KSYC-eT",
        "outputId": "aadd6801-6593-4649-d920-537156151e18"
      },
      "outputs": [
        {
          "data": {
            "image/png": "[encoded data removed]",
            "text/plain": [
              "<Figure size 432x288 with 1 Axes>"
            ]
          },
          "metadata": {
            "needs_background": "light"
          },
          "output_type": "display_data"
        }
      ],
      "source": [
        "TEST_CANVAS_SIZE = 256\n",
        "TEST_SEED = 42 # DO NOT CHANGE THIS LINE.\n",
        "\n",
        "np.random.seed(TEST_SEED)\n",
        "\n",
        "TEST_CANVAS = [\n",
        "    get_random_canvas(\n",
        "        digits=TEST_DIGITS,\n",
        "        classes=TEST_CLASSES,\n",
        "    )\n",
        "    for _ in range(TEST_CANVAS_SIZE)\n",
        "]\n",
        "\n",
        "TEST_CANVAS[0].plot()"
      ]
    },
    {
      "cell_type": "markdown",
      "metadata": {
        "id": "OgU2bKyJ3pVh"
      },
      "source": [
        "For training one can either:\n",
        "- generate `TRAIN_CANVAS` similarly to `TEST_CANVAS` creation,\n",
        "- use the fact that `get_random_canvas()` generates a random train canvas and generate training data on-the-fly."
      ]
    },
    {
      "cell_type": "markdown",
      "metadata": {
        "id": "Ri3Jh7GzjZ4W"
      },
      "source": [
        "### Anchor size analysis (2pts)\n",
        "\n",
        "For this task:\n",
        "1. Sample at least 1000 random canvas.\n",
        "2. Analyze the sizes (heights and widths) of the `MnistBox`es from this canvas.\n",
        "3. Select the anchor sizes which will match the problem the best.\n",
        "\n",
        "Selected anchor sizes should be stored in a sensible manner in `ANCHOR_SIZES` list."
      ]
    },
    {
      "cell_type": "code",
      "execution_count": null,
      "metadata": {
        "colab": {
          "base_uri": "https://localhost:8080/",
          "height": 610
        },
        "id": "KWLTAoFwkEnu",
        "outputId": "778c0a72-ee7e-4fe6-bac3-53dd5eed9bf8"
      },
      "outputs": [
        {
          "name": "stdout",
          "output_type": "stream",
          "text": [
            "ANCHOR_SIZES:\n",
            "[(9, 19),\n",
            " (19, 9),\n",
            " (11, 19),\n",
            " (19, 11),\n",
            " (13, 19),\n",
            " (19, 13),\n",
            " (15, 19),\n",
            " (19, 15),\n",
            " (17, 19),\n",
            " (19, 17),\n",
            " (19, 19)]\n"
          ]
        },
        {
          "data": {
            "image/png": "[encoded data removed]",
            "text/plain": [
              "<Figure size 720x720 with 1 Axes>"
            ]
          },
          "metadata": {
            "needs_background": "light"
          },
          "output_type": "display_data"
        }
      ],
      "source": [
        "import collections\n",
        "import matplotlib.pyplot as plt\n",
        "import pprint\n",
        "\n",
        "heatmap = np.zeros((21, 21))\n",
        "for i in range(1000):\n",
        "  canvas = get_random_canvas()\n",
        "  for box in canvas.boxes:\n",
        "    height = box.y_diff\n",
        "    width = box.x_diff\n",
        "    heatmap[width, height] += 1\n",
        "\n",
        "plt.rcParams['figure.figsize'] = [10, 10]\n",
        "fig, ax = plt.subplots()\n",
        "im = ax.imshow(heatmap, cmap='gray', interpolation='nearest')\n",
        "ax.set_xticks(np.arange(21))\n",
        "ax.set_yticks(np.arange(21))\n",
        "ax.yaxis.tick_right()\n",
        "\n",
        "ANCHOR_SIZES = [] # TODO\n",
        "for other in range(9, 19, 2):\n",
        "  ANCHOR_SIZES.append((other, 19))\n",
        "  ANCHOR_SIZES.append((19, other))\n",
        "ANCHOR_SIZES.append((19, 19))\n",
        "print(\"ANCHOR_SIZES:\") \n",
        "pprint.pprint(ANCHOR_SIZES)\n",
        "NUM_ANCHORS = len(ANCHOR_SIZES)\n",
        "plt.rcParams['figure.figsize'] = [5, 5]"
      ]
    },
    {
      "cell_type": "markdown",
      "metadata": {
        "id": "_GpJZUkDGJSi"
      },
      "source": [
        "### Model building (2pt)\n",
        "\n",
        "\n",
        "One should build a model for digit detection in $\\texttt{pytorch}$. Model should consist of:\n",
        "\n",
        "#### $\\texttt{backbone}$:\n",
        "\n",
        "We provided you with a backbone model architecture that accepts a `MnistCanvas` instance and output a tensor with shape $(1, 16, 16, 128)$. It should be trained together with the rest of your solution.\n",
        "\n",
        "#### $\\texttt{anchors}$:\n",
        "\n",
        "List of `MnistBox`es where each box:\n",
        "\n",
        "- should have size of one of selected `ANCHOR_SIZES`,\n",
        "- should have center coordinates on canvas of type $\\left(\\left(m + \\frac{1}{2}\\right) * 8, \\left(n + \\frac{1}{2}\\right) * 8\\right)$  for $m, n \\in \\{0, 1, \\dots, 16 - 1\\}$,\n",
        "\n",
        "`MnistBox` with anchor should have an attribute `class_nb` set to `None`.\n",
        "\n",
        "#### $\\texttt{digitClassificationHead}$:\n",
        "\n",
        "$\\texttt{digitClassificationHead}$ should accept backbone output as an input and output `digit_classification_output` tensor of shape $(len(\\texttt{anchors)}, 5)$ where the value $ch_{i, j}$ which is the value of i-th row and j-th column has a property that $sigmoid(ch_{i, j})$ is a probability that i-th anchor from $\\texttt{anchors}$ overlaps significantly with some canvas `GTBox: MnistBox` with a digit of class $j + 1$ (ground truth box).\n",
        "\n",
        "#### $\\texttt{rotationClassificationHead}$:\n",
        "\n",
        "$\\texttt{rotationClassificationHead}$ should accept backbone output as an input and output `rotation_classification_output` tensor of shape $(len(\\texttt{anchors)}, 2)$ where the value $ch_{i, j}$ which is the value of i-th row and j-th column has a property that $sigmoid(ch_{i, j})$ is a probability that i-th anchor from $\\texttt{anchors}$ overlaps significantly with some canvas `GTBox: MnistBox` with a digit which was not rotated when $j = 0$ and was rotated when $j = 1$.\n",
        "\n",
        "#### $\\texttt{boxRegressionHead}$:\n",
        "\n",
        "$\\texttt{boxRegressionHead}$ should accept backbone output as an input and output `box_regression_output` tensor of shape $(len(\\texttt{anchors)}, 4)$ where the value $br_{i}$ which is the value of i-th row has a property that if there is a ground truth digit box $\\texttt{GTBox}$ - significantly overlapping with $\\texttt{anchor}[i]$ then the following properties hold:\n",
        "\n",
        "$$\\texttt{GTBox.x_min} = \\texttt{anchor[i].x_min} + br_{i, 0},$$ \n",
        "$$\\texttt{GTBox.x_max} = \\texttt{anchor[i].x_max} + br_{i, 1},$$ \n",
        "$$\\texttt{GTBox.y_min} = \\texttt{anchor[i].y_min} + br_{i, 2},$$ \n",
        "$$\\texttt{GTBox.y_max} = \\texttt{anchor[i].y_max} + br_{i, 3}.$$ \n",
        "\n",
        "#### *Hint*: be careful with a construction of a head output as a simple reshaping might cause unexpected permutation of anchors.\n",
        "\n",
        "### Model output\n",
        "\n",
        "Model should output `DigitDetectionModelOutput` class defined below.\n",
        "\n",
        "#### Comment on _significant overlap_:\n",
        "\n",
        "The meaning of significant overlap will be described later."
      ]
    },
    {
      "cell_type": "code",
      "execution_count": null,
      "metadata": {
        "id": "kXco8riNGHhl"
      },
      "outputs": [],
      "source": [
        "from torch import nn\n",
        "import torch.nn.functional as F\n",
        "\n",
        "class DigitDetectionModelOutput:\n",
        "\n",
        "    def __init__(\n",
        "        self,\n",
        "        anchors: List[MnistBox],\n",
        "        digit_classification_output: torch.Tensor,\n",
        "        rotation_classification_output: torch.Tensor,\n",
        "        box_regression_output: torch.Tensor,\n",
        "    ):\n",
        "        self.anchors = anchors\n",
        "        self.digit_classification_output = digit_classification_output\n",
        "        self.box_regression_output = box_regression_output\n",
        "        self.rotation_classification_output = rotation_classification_output\n",
        "\n",
        "\n",
        "class Backbone(torch.nn.Module):\n",
        "    def __init__(self):\n",
        "        super().__init__()\n",
        "        self.output_shape = (16, 16, 128)\n",
        "        self.first_block = torch.nn.Sequential(\n",
        "            nn.Conv2d(1, 16, (3, 3), padding=1),\n",
        "            nn.ReLU(),\n",
        "            nn.Conv2d(16, 32, (3, 3), padding=1),\n",
        "            nn.ReLU(),\n",
        "            nn.MaxPool2d(2, 2),\n",
        "        )\n",
        "        self.blocks = torch.nn.ModuleList(\n",
        "            [torch.nn.Sequential(*[\n",
        "                nn.Conv2d(16 * (2 ** i), 16 * (2 ** (i + 1)), (3, 3), padding=1),\n",
        "                nn.ReLU(),\n",
        "                nn.MaxPool2d(2, 2),\n",
        "              ]) for i in range(1, 3)\n",
        "            ]\n",
        "        )\n",
        "\n",
        "    def forward(self, x: MnistCanvas) -> torch.Tensor:\n",
        "        image = torch.Tensor(x.image).to(DEVICE).view(1, 1, 128, 128)\n",
        "        aux = self.first_block(image)\n",
        "        for block in self.blocks:\n",
        "            aux = block(aux)\n",
        "        return aux\n",
        "\n",
        "class DigitDetectionModel(torch.nn.Module):\n",
        "    def __init__(self):\n",
        "        super().__init__()\n",
        "        self.backbone = Backbone()\n",
        "        self.anchors = []\n",
        "        for m in range(3, 128, 8):\n",
        "          for n in range(3, 128, 8):\n",
        "            for anchor in ANCHOR_SIZES:\n",
        "              x, y = anchor\n",
        "              box = MnistBox(m - x//2, n - y//2, m+x//2, n+y//2, class_nb=None)\n",
        "              self.anchors.append(box)\n",
        "        \n",
        "        self.digitClassificationHead = Head(128, NUM_ANCHORS, 5)\n",
        "        self.rotationClassificationHead = Head(128, NUM_ANCHORS, 2)\n",
        "        self.boxRegressionHead = Head(128, NUM_ANCHORS, 4)\n",
        "\n",
        "    def forward(self, x: MnistCanvas) -> DigitDetectionModelOutput:\n",
        "        b_res = self.backbone(x)\n",
        "        d_class = self.digitClassificationHead(b_res)\n",
        "        r_class = self.rotationClassificationHead(b_res)\n",
        "        box_regression = self.boxRegressionHead(b_res)\n",
        "        return DigitDetectionModelOutput(self.anchors, d_class, r_class, box_regression)\n",
        "\n",
        "class Head(nn.Module):\n",
        "    def __init__(self, in_channels, num_anchors, num_classes):\n",
        "        '''num_anchors - number of anchors per single anchoring point. Total number of anchors in whole model is equal to 16 x 16 x num_anchors'''\n",
        "        super().__init__()\n",
        "\n",
        "        conv = []\n",
        "        conv.append(nn.Conv2d(in_channels, in_channels, kernel_size=5, stride=1, padding=2))\n",
        "        conv.append(nn.ReLU())\n",
        "        for _ in range(3):\n",
        "            conv.append(nn.Conv2d(in_channels, in_channels, kernel_size=3, stride=1, padding=1))\n",
        "            conv.append(nn.ReLU())\n",
        "        self.conv = nn.Sequential(*conv)\n",
        "\n",
        "        self.cls_logits = nn.Conv2d(in_channels, num_anchors * num_classes, kernel_size=3, stride=1, padding=1)\n",
        "\n",
        "        self.num_classes = num_classes\n",
        "        self.num_anchors = num_anchors\n",
        "\n",
        "    def forward(self, x):\n",
        "        x = self.conv(x)\n",
        "        result = self.cls_logits(x)\n",
        "        result.squeeze_()\n",
        "        result = result.permute(1, 2, 0)\n",
        "        return result.reshape(256 * self.num_anchors, self.num_classes)\n"
      ]
    },
    {
      "cell_type": "markdown",
      "metadata": {
        "id": "hnZu3sdhTfTJ"
      },
      "source": [
        "### Significant overlap (4pt)\n",
        "\n",
        "In order to manage definition of a _significant overlap_ student should implement the `TargetDecoder`. `TargetDecoder` have two methods:\n",
        "\n",
        "### - `get_targets`\n",
        "\n",
        "This method accepts a `canvas: MnistCanvas` with boxes later refered to as `gt_boxes: List[MnistBox]`, `anchors: List[MnistBox]` of model anchors and `iou_threshold: float`. Its output should be `DigitDetectionModelTarget` instance with the following attributes:\n",
        "\n",
        "- `digit_classification_target` - a tensor of shape $(len(anchors), 5)$,\n",
        "- `rotation_classification_target` - a tensor of shape $(len(anchors), 2)$\n",
        "- `box_regression_target` - a tensor of shape $(len(anchors), 4)$,\n",
        "- `matched_anchors` - a list of indices anchors matched (see definition below).\n",
        "\n",
        "The output attributes should be computed in a following manner: \n",
        "\n",
        "1. All of the outputs of the output tensors should be `0` except the case presented in the point 2.\n",
        "1. if for anchor `anchors[i]` there exist at least one `gt_box` from `gt_boxes` with `iou` overlap greater than `iou_threshold` then let `gt_best` be the one with the greatest `iou` overlap (ties resolved randomly). Then `box_regression_target` should encode the bounding box correction, namely:\n",
        "\n",
        "$$\\texttt{box_regression_target}[i, 0] = \\texttt{gt_best.x_min} - \\texttt{anchor[i].x_min}$$ \n",
        "$$\\texttt{box_regression_target}[i, 1] = \\texttt{gt_best.x_max} - \\texttt{anchor[i].x_max}$$ \n",
        "$$\\texttt{box_regression_target}[i, 2] = \\texttt{gt_best.y_min} - \\texttt{anchor[i].y_min}$$ \n",
        "$$\\texttt{box_regression_target}[i, 3] = \\texttt{gt_best.y_max} - \\texttt{anchor[i].y_max}$$,\n",
        "\n",
        "`digit_classification_target` should encode the class of matched `gt_best`, namely:\n",
        "\n",
        "$$\\texttt{digit_classification_target}[i, \\texttt{gt_best.class_nb} - 1] = 1.$$\n",
        "\n",
        "`rotation_classification_target` should encode if matched `gt_best` has a digit which was rotated, namely:\n",
        "\n",
        "$$\\texttt{rotation_classification_target}[i, 0] = 1,$$\n",
        "\n",
        "if `gt_best` digit was not rotated and:\n",
        "\n",
        "$$\\texttt{rotation_classification_target}[i, 1] = 1,$$\n",
        "\n",
        "if `gt_best` digit was rotated (this might be interpreted as a one-hot encoding if a digit was rotated).\n",
        "\n",
        "Moreover - the `anchor[i]` is considered to be _matched_ with some ground truth box so index `i` should be in `matched_anchors` list.\n",
        "\n",
        "The output should be packed into `DigitDetectionModelTarget` class defined below.\n",
        "\n",
        "_Hint_: note that there might be cases when no anchor is matched. What does it mean about your anchors?\n",
        "\n",
        "### - `get_predictions`\n",
        "\n",
        "This method should decode the `DigitDetectionModelOutput` to set of final boxes\n",
        "predictions. We leave the way of selecting the predictions to students.\n",
        "\n",
        "_HINT_: we definitely advise to use `torchvision.ops.nms` function.\n",
        "\n"
      ]
    },
    {
      "cell_type": "code",
      "execution_count": null,
      "metadata": {
        "id": "WWcthFZQquNo"
      },
      "outputs": [],
      "source": [
        "from torchvision.ops import box_iou, nms\n",
        "\n",
        "class DigitDetectionModelTarget:\n",
        "\n",
        "    def __init__(\n",
        "        self,\n",
        "        digit_classification_target: torch.Tensor,\n",
        "        rotation_classification_target: torch.Tensor,\n",
        "        box_regression_target: torch.Tensor,\n",
        "        matched_anchors: List[int],\n",
        "    ):\n",
        "        self.digit_classification_target = digit_classification_target\n",
        "        self.rotation_classification_target = rotation_classification_target\n",
        "        self.box_regression_target = box_regression_target\n",
        "        self.matched_anchors = matched_anchors\n",
        "\n",
        "\n",
        "class TargetDecoder:\n",
        "\n",
        "    def get_targets(\n",
        "        self,\n",
        "        canvas: MnistCanvas,\n",
        "        anchors: List[MnistBox],\n",
        "        iou_threshold: float=0.2,\n",
        "        nb_of_classes: int = 5,\n",
        "    ) -> DigitDetectionModelTarget:\n",
        "        digit_classification_target = torch.zeros([len(anchors), 5]).to(DEVICE)\n",
        "        rotation_classification_target = torch.zeros([len(anchors), 2]).to(DEVICE)\n",
        "        box_regression_target = torch.zeros([len(anchors), 4]).to(DEVICE)\n",
        "        matched_anchors = []\n",
        "        for anchor_no, anchor in enumerate(anchors):\n",
        "          best_iou = -1\n",
        "          best_box = None\n",
        "          for box in canvas.boxes:\n",
        "            iou = anchor.iou_with(box)\n",
        "            if iou > iou_threshold and iou > best_iou:\n",
        "              best_box = box\n",
        "              best_iou = iou\n",
        "          if best_box is not None:\n",
        "            matched_anchors.append(anchor_no)\n",
        "            digit_classification_target[anchor_no, best_box.class_nb - 1] = 1\n",
        "            rotation_classification_target[anchor_no, int(best_box.rotated)] = 1\n",
        "            box_regression_target[anchor_no, 0] = best_box.x_min - anchor.x_min\n",
        "            box_regression_target[anchor_no, 1] = best_box.x_max - anchor.x_max\n",
        "            box_regression_target[anchor_no, 2] = best_box.y_min - anchor.y_min\n",
        "            box_regression_target[anchor_no, 3] = best_box.y_max - anchor.y_max\n",
        "        return DigitDetectionModelTarget(digit_classification_target, rotation_classification_target, box_regression_target, matched_anchors)\n",
        "\n",
        "\n",
        "    def get_predictions(\n",
        "        self,\n",
        "        model_output: DigitDetectionModelOutput,\n",
        "    ) -> List[MnistBox]:\n",
        "        with torch.no_grad():\n",
        "          n = len(model_output.anchors)\n",
        "          boxes = torch.zeros([n, 4])\n",
        "          scores = torch.zeros([n])\n",
        "          classes = torch.zeros([n])\n",
        "          rotations = torch.zeros([n], dtype=bool)\n",
        "          to_eliminate = []\n",
        "          for i in range(n):\n",
        "            anchor = model_output.anchors[i]\n",
        "            class_probability = model_output.digit_classification_output[i, :].softmax(0)\n",
        "            predicted_class = class_probability.argmax() + 1\n",
        "            rotation_probability = model_output.rotation_classification_output[i, :].softmax(0)\n",
        "            predicted_rotation = (rotation_probability.argmax() == 1)\n",
        "            score = class_probability.max() + rotation_probability.max()\n",
        "            scores[i] = score\n",
        "            rotations[i] = predicted_rotation\n",
        "            classes[i] = predicted_class\n",
        "            boxes[i, 0] = anchor.x_min + model_output.box_regression_output[i, 0]\n",
        "            boxes[i, 1] = anchor.y_min + model_output.box_regression_output[i, 2]\n",
        "            boxes[i, 2] = anchor.x_max + model_output.box_regression_output[i, 1]\n",
        "            boxes[i, 3] = anchor.y_max + model_output.box_regression_output[i, 3]\n",
        "            SCORE_THRESHOLD = 1.9999\n",
        "            if (score < SCORE_THRESHOLD or boxes[i, 0] < 0 or boxes[i, 1] < 0 or boxes[i, 2] <= boxes[i, 0] or boxes[i, 3] <= boxes[i, 1] or boxes[i, 0] >= 128 or boxes[i, 2] >= 128):\n",
        "              to_eliminate.append(i)\n",
        "          boxes = boxes.to(DEVICE)\n",
        "          scores = scores.to(DEVICE)\n",
        "          classes = classes.to(DEVICE)\n",
        "          rotations = rotations.to(DEVICE)\n",
        "          mask = np.zeros([n],dtype=bool)\n",
        "          mask[to_eliminate] = True\n",
        "          boxes = boxes[~mask]\n",
        "          scores = scores[~mask]\n",
        "          classes = classes[~mask]\n",
        "          rotations = rotations[~mask]\n",
        "          to_keep = nms(boxes, scores, 0.1)\n",
        "          scores_predictions = []\n",
        "          for i in to_keep:\n",
        "            scores_predictions.append((scores[i], MnistBox(boxes[i, 0], boxes[i, 1], boxes[i, 2], boxes[i, 3], classes[i], rotations[i])))\n",
        "\n",
        "          # Take at most 6 (could be less) most confidently predicted boxes\n",
        "          scores_predictions.sort(key = lambda t: t[0])\n",
        "          predictions = [prediction for score, prediction in scores_predictions[-6:]]\n",
        "          return predictions"
      ]
    },
    {
      "cell_type": "markdown",
      "metadata": {
        "id": "xA1Nvz6jagyP"
      },
      "source": [
        "### Metrics (4pt)\n",
        "\n",
        "## Retina Loss\n",
        "As a loss function one should implement the variant of Retina Loss. It should be computed in a following manner:\n",
        "\n",
        "`compute_loss`: \n",
        "\n",
        "This method accepts:\n",
        "- `DigitDetectionModelTarget`,\n",
        "- `DigitDetectionModelOutput`,\n",
        "\n",
        "and computes a loss which is a sum of a:\n",
        "- `torch.nn.SmoothL1Loss` between boxes predictions and targets averaged only over matched anchors,\n",
        "- `torchvision.ops.sigmoid_focal_loss` between digit predictions and targets,\n",
        "- `torchvision.ops.sigmoid_focal_loss` between rotation predictions and targets,\n",
        "\n",
        "One can either use `torch` default parameters for this losses or try to tune them.\n",
        "\n",
        "If there are no matched anchors - a loss should return `None`. Remember to handle this case separately in your training loop. What does the occurence of this case means about your anchors?\n",
        "\n",
        "## Digit Accuracy\n",
        "\n",
        "This method shoud accept `canvas: MnistCanvas` and `predicted_boxes: List[MnistBox]` obtained using `TargetDecoder.get_predictions` method and output whether there is a direct matching between boxes from `MnistCanvas` and predictions. There is a direct matching if:\n",
        "\n",
        "- for all boxes from `canvas`, there exist precisely one box from `predicted_boxes` with a matching class  and `iou` overlap greater than `0.5`,\n",
        "- the number of `canvas` boxes match `len(predicted_boxes)`.\n",
        "\n",
        "The model shoud output `1` if there is a matching and `0` otherwise.\n"
      ]
    },
    {
      "cell_type": "code",
      "execution_count": null,
      "metadata": {
        "id": "rffXn9CQwVu4"
      },
      "outputs": [],
      "source": [
        "import torch\n",
        "import torchvision \n",
        "\n",
        "class RetinaLoss:\n",
        "\n",
        "    def compute_loss(\n",
        "        self,\n",
        "        model_output: DigitDetectionModelOutput,\n",
        "        model_target: DigitDetectionModelTarget,\n",
        "    ) -> Optional[torch.Tensor]:\n",
        "        matched = model_target.matched_anchors\n",
        "        if len(matched) == 0:\n",
        "            return None\n",
        "        f_loss1 = torch.nn.SmoothL1Loss(reduction='mean')\n",
        "        loss1 = f_loss1(model_output.box_regression_output[matched], model_target.box_regression_target[matched])\n",
        "        loss2 = torchvision.ops.sigmoid_focal_loss(model_output.digit_classification_output[matched], model_target.digit_classification_target[matched], reduction='mean')\n",
        "        loss3 = torchvision.ops.sigmoid_focal_loss(model_output.rotation_classification_output[matched], model_target.rotation_classification_target[matched], reduction='mean') \n",
        "        return loss1 + loss2 + loss3\n",
        "\n",
        "\n",
        "class DigitAccuracy:\n",
        "\n",
        "    def compute_metric(\n",
        "        self,\n",
        "        predicted_boxes: List[MnistBox],\n",
        "        canvas: MnistCanvas,\n",
        "    ):\n",
        "      expected_boxes = canvas.boxes\n",
        "      if len(predicted_boxes) != len(canvas.boxes):\n",
        "        return 0 \n",
        "      for expectation in expected_boxes:\n",
        "        found_match = False\n",
        "        for prediction in predicted_boxes:\n",
        "          if prediction.iou_with(expectation) > 0.5 and prediction.class_nb == expectation.class_nb and prediction.rotated == expectation.rotated:\n",
        "            if found_match:\n",
        "              return 0\n",
        "            else:\n",
        "              found_match = True\n",
        "        if not found_match:\n",
        "          return 0\n",
        "      return 1"
      ]
    },
    {
      "cell_type": "markdown",
      "metadata": {
        "id": "15n5w-hhvRbS"
      },
      "source": [
        "### Train your model (4pt)\n",
        "\n",
        "One should use all classes defined above to train the model.\n",
        "\n",
        "A passing threshold is `10%` of a `DigitAccuracy` on a `TEST_CANVAS` data.\n",
        "\n",
        "Plot example results of matched and mismatched predictions (2pt).\n",
        "\n",
        "**Hint:** Training can take a while to achieve the expected accuracy. It is normal that for many epochs at the beginning accuracy is constantly $0$. Do not worry as long as the loss is on average decreasing across epochs.\n",
        "\n",
        "Have fun!"
      ]
    },
    {
      "cell_type": "code",
      "execution_count": null,
      "metadata": {
        "id": "MfuhdY-A4kol"
      },
      "outputs": [],
      "source": [
        "N = 2048 # No. of examples in train set\n",
        "BATCH_SIZE = 32\n",
        "\n",
        "model = DigitDetectionModel()\n",
        "decoder = TargetDecoder()\n",
        "\n",
        "# For performance reasons it's better to save all targets beforehand\n",
        "train_examples = [get_random_canvas() for i in range(N)]\n",
        "example_target = [(canvas, decoder.get_targets(canvas, model.anchors)) for canvas in train_examples]\n",
        "test_targets = [decoder.get_targets(canvas, model.anchors) for canvas in TEST_CANVAS]"
      ]
    },
    {
      "cell_type": "code",
      "execution_count": null,
      "metadata": {
        "colab": {
          "base_uri": "https://localhost:8080/",
          "height": 678
        },
        "id": "D7Zde54IZ3fi",
        "outputId": "480730a8-c150-40a6-98e0-6f4dca99cdaa"
      },
      "outputs": [
        {
          "name": "stdout",
          "output_type": "stream",
          "text": [
            "Epoch loss: 5522.201560974121, avg: 2.696387480944395\n",
            "Epoch loss: 2575.7165756225586, avg: 1.2576741091907024\n",
            "Epoch loss: 1747.7475624084473, avg: 0.8533923644572496\n",
            "Epoch loss: 1287.9011182785034, avg: 0.6288579679094255\n",
            "Epoch loss: 1019.5676221847534, avg: 0.49783575301989913\n",
            "Epoch loss: 892.3818302154541, avg: 0.4357333155348897\n",
            "Epoch loss: 837.4216461181641, avg: 0.4088972881436348\n",
            "Epoch loss: 722.65735912323, avg: 0.35286003863438964\n",
            "Epoch loss: 610.4491629600525, avg: 0.29807088035158813\n",
            "Epoch loss: 588.0314474105835, avg: 0.287124730180949\n",
            "Test loss: 90.23117496073246, avg: 0.35246552719036117\n",
            "Epoch loss: 534.414614200592, avg: 0.26094463584013283\n",
            "Epoch loss: 475.5794081687927, avg: 0.23221650789491832\n",
            "Epoch loss: 452.5087990760803, avg: 0.22095156204886734\n",
            "Epoch loss: 495.0491180419922, avg: 0.2417232021689415\n",
            "Epoch loss: 404.50540256500244, avg: 0.1975124035961926\n",
            "Epoch loss: 384.3084099292755, avg: 0.18765059078577906\n",
            "Epoch loss: 352.7492651939392, avg: 0.17224085214547813\n",
            "Epoch loss: 319.48909521102905, avg: 0.15600053477101028\n",
            "Epoch loss: 311.81868147850037, avg: 0.152255215565674\n",
            "Epoch loss: 295.09260177612305, avg: 0.14408818446099758\n",
            "Test loss: 61.64031522348523, avg: 0.24078248134173919\n",
            "Epoch loss: 285.7237033843994, avg: 0.13951352704316378\n",
            "Epoch loss: 268.23071575164795, avg: 0.13097202917560935\n",
            "Epoch loss: 343.18684673309326, avg: 0.1675717025063932\n",
            "Epoch loss: 247.50888466835022, avg: 0.12085394759196788\n",
            "Epoch loss: 225.5355007648468, avg: 0.11012475623283535\n",
            "Epoch loss: 250.4827573299408, avg: 0.12230603385251015\n",
            "Epoch loss: 226.23572945594788, avg: 0.11046666477341205\n",
            "Epoch loss: 201.93485641479492, avg: 0.09860100410878658\n",
            "Epoch loss: 191.00345313549042, avg: 0.09326340485131368\n",
            "Epoch loss: 178.09175407886505, avg: 0.08695886429632083\n",
            "Test loss: 57.26306097768247, avg: 0.22368383194407215\n",
            "Epoch loss: 181.23328149318695, avg: 0.08849281322909519\n",
            "Epoch loss: 183.73451471328735, avg: 0.08971411851234734\n",
            "Epoch loss: 166.7245796918869, avg: 0.08140848617767915\n",
            "Epoch loss: 158.23302054405212, avg: 0.07726221706252545\n",
            "Epoch loss: 151.93942987918854, avg: 0.07418917474569753\n",
            "Epoch loss: 145.9008687734604, avg: 0.0712406585807912\n",
            "Epoch loss: 132.06214952468872, avg: 0.06448347144760191\n",
            "Epoch loss: 148.00766599178314, avg: 0.07226936816005036\n",
            "Epoch loss: 142.6735006570816, avg: 0.06966479524271563\n",
            "Epoch loss: 130.56111812591553, avg: 0.06375054595991969\n",
            "Test loss: 59.50394767522812, avg: 0.23243729560635984\n",
            "Epoch loss: 126.72121000289917, avg: 0.06187559082172811\n",
            "Epoch loss: 125.37123775482178, avg: 0.06121642468497157\n",
            "Epoch loss: 119.53884017467499, avg: 0.05836857430404052\n",
            "Epoch loss: 117.19965785741806, avg: 0.05722639543819241\n",
            "Epoch loss: 125.81011497974396, avg: 0.061430720204953104\n",
            "Epoch loss: 111.156807243824, avg: 0.05427578478702344\n",
            "Epoch loss: 108.7444149851799, avg: 0.053097858879482374\n",
            "Epoch loss: 104.17051839828491, avg: 0.050864510936662555\n",
            "Epoch loss: 111.51379591226578, avg: 0.054450095660286024\n",
            "Epoch loss: 106.13632875680923, avg: 0.05182437927578576\n",
            "Test loss: 57.985745060257614, avg: 0.2265068166416313\n"
          ]
        }
      ],
      "source": [
        "import random\n",
        "\n",
        "def test_loss_report(model, loss_computer, test_targets):\n",
        "  with torch.no_grad():\n",
        "    loss = 0\n",
        "    for example, target in zip(TEST_CANVAS, test_targets):\n",
        "      model_output = model(example)\n",
        "      loss += loss_computer.compute_loss(model_output, target).item()\n",
        "    print(f\"Test loss: {loss}, avg: {loss / TEST_CANVAS_SIZE}\")\n",
        "\n",
        "\n",
        "if DEVICE == torch.device('cuda'):\n",
        "    model.cuda()\n",
        "loss_computer = RetinaLoss()\n",
        "EPOCHS = 50\n",
        "optimizer = torch.optim.Adam(model.parameters(), lr=.03 / BATCH_SIZE)\n",
        "\n",
        "for i in range(EPOCHS):\n",
        "  random.shuffle(example_target)\n",
        "  epoch_loss = 0\n",
        "  for batch_no in range(N//BATCH_SIZE):\n",
        "    optimizer.zero_grad()\n",
        "    batch_loss = 0\n",
        "    # If N is not a multiple of BATCH_SIZE, the last (not full) batch will be skipped\n",
        "    # It's not a problem because data is shuffled in each epoch\n",
        "    for example, target in example_target[batch_no*BATCH_SIZE:(batch_no+1) * BATCH_SIZE]:\n",
        "      model_output = model(example)\n",
        "      batch_loss += loss_computer.compute_loss(model_output, target)\n",
        "    batch_loss.backward()\n",
        "    optimizer.step()\n",
        "    epoch_loss += batch_loss.item()\n",
        "  print(f\"Epoch loss: {epoch_loss}, avg: {epoch_loss / N}\")\n",
        "  if i % 10 == (EPOCHS-1) % 10:\n",
        "      test_loss_report(model, loss_computer, test_targets)"
      ]
    },
    {
      "cell_type": "code",
      "execution_count": null,
      "metadata": {
        "colab": {
          "base_uri": "https://localhost:8080/",
          "height": 1000
        },
        "id": "VlUQczsxFagU",
        "outputId": "a5c4dc74-16ea-47e1-abb9-4155ab802709"
      },
      "outputs": [
        {
          "name": "stdout",
          "output_type": "stream",
          "text": [
            "Final test loss:\n",
            "Test loss: 57.985745060257614, avg: 0.2265068166416313\n",
            "Computing final accuracy, this can take a while...\n",
            "..........................\n",
            "Test set accuracy: 47.65625%\n"
          ]
        }
      ],
      "source": [
        "decoder = TargetDecoder()\n",
        "acc_computer = DigitAccuracy()\n",
        "print(\"Final test loss:\")\n",
        "test_loss_report(model, loss_computer, test_targets)\n",
        "\n",
        "correctly_predicted_examples = []\n",
        "incorrectly_predicted_examples = []\n",
        "print(\"Computing final accuracy, this can take a while...\")\n",
        "for i, example in enumerate(TEST_CANVAS):\n",
        "  predictions = decoder.get_predictions(model(example))\n",
        "  metric = acc_computer.compute_metric(predictions, example)\n",
        "  if metric == 1:\n",
        "    correctly_predicted_examples.append(example)\n",
        "  else:\n",
        "    incorrectly_predicted_examples.append(example)\n",
        "  if i%10 == 0:\n",
        "    print('.', end='')\n",
        "print()\n",
        "print(f\"Test set accuracy: {100*(len(correctly_predicted_examples)/len(TEST_CANVAS))}%\")"
      ]
    },
    {
      "cell_type": "code",
      "execution_count": null,
      "metadata": {
        "id": "gbse0BZ4PXdo"
      },
      "outputs": [],
      "source": [
        "torch.save(model.state_dict(), './model.pt')"
      ]
    },
    {
      "cell_type": "code",
      "execution_count": null,
      "metadata": {
        "colab": {
          "base_uri": "https://localhost:8080/"
        },
        "id": "l4Mc-I_URo2H",
        "outputId": "d352a98a-0f1c-40b3-bc7b-0e0bed07ead0"
      },
      "outputs": [
        {
          "name": "stdout",
          "output_type": "stream",
          "text": [
            "Correctly predicted sample:\n"
          ]
        },
        {
          "data": {
            "image/png": "[encoded data removed]",
            "text/plain": [
              "<Figure size 360x360 with 1 Axes>"
            ]
          },
          "metadata": {
            "needs_background": "light"
          },
          "output_type": "display_data"
        },
        {
          "data": {
            "image/png": "[encoded data removed]",
            "text/plain": [
              "<Figure size 360x360 with 1 Axes>"
            ]
          },
          "metadata": {
            "needs_background": "light"
          },
          "output_type": "display_data"
        },
        {
          "data": {
            "image/png": "[encoded data removed]",
            "text/plain": [
              "<Figure size 360x360 with 1 Axes>"
            ]
          },
          "metadata": {
            "needs_background": "light"
          },
          "output_type": "display_data"
        },
        {
          "name": "stdout",
          "output_type": "stream",
          "text": [
            "Incorrectly predicted sample:\n"
          ]
        },
        {
          "data": {
            "image/png": "[encoded data removed]",
            "text/plain": [
              "<Figure size 360x360 with 1 Axes>"
            ]
          },
          "metadata": {
            "needs_background": "light"
          },
          "output_type": "display_data"
        },
        {
          "data": {
            "image/png": "[encoded data removed]",
            "text/plain": [
              "<Figure size 360x360 with 1 Axes>"
            ]
          },
          "metadata": {
            "needs_background": "light"
          },
          "output_type": "display_data"
        },
        {
          "data": {
            "image/png": "[encoded data removed]",
            "text/plain": [
              "<Figure size 360x360 with 1 Axes>"
            ]
          },
          "metadata": {
            "needs_background": "light"
          },
          "output_type": "display_data"
        },
        {
          "data": {
            "image/png": "[encoded data removed]",
            "text/plain": [
              "<Figure size 360x360 with 1 Axes>"
            ]
          },
          "metadata": {
            "needs_background": "light"
          },
          "output_type": "display_data"
        },
        {
          "data": {
            "image/png": "[encoded data removed]",
            "text/plain": [
              "<Figure size 360x360 with 1 Axes>"
            ]
          },
          "metadata": {
            "needs_background": "light"
          },
          "output_type": "display_data"
        }
      ],
      "source": [
        "def predict_and_plot(model, decoder, canvas):\n",
        "    predictions = decoder.get_predictions(model(canvas))\n",
        "    MnistCanvas(canvas.image, predictions).plot()\n",
        "\n",
        "print(\"Correctly predicted sample:\")\n",
        "correct_predictions_sample = random.sample(correctly_predicted_examples, 3)\n",
        "for example in correct_predictions_sample:\n",
        "    predict_and_plot(model, decoder, example)\n",
        "\n",
        "print(\"Incorrectly predicted sample:\")\n",
        "incorrect_predictions_sample = random.sample(incorrectly_predicted_examples, 5)\n",
        "for example in incorrect_predictions_sample:\n",
        "    predict_and_plot(model, decoder, example)"
      ]
    },
    {
      "cell_type": "markdown",
      "metadata": {
        "id": "SEVDxbvgPXdp"
      },
      "source": [
        "# Report\n",
        "## Anchor boxes selection\n",
        "Based on the heatmap of box sizes in the dataset I concluded that a small set of 11 anchors will do sufficiently good. At first I used more anchors but it seems that enlarging the set does not improve performance by much and slows down learning process.\n",
        "\n",
        "## Model architecture\n",
        "My initial attempts at creating a working model architecture were pretty bad, because at first I tried using fully connected layers after backbone. It turned out (which seems obvious to me now) that such model would have really hard time learning and working, since our task is translation-independent.\n",
        "Later I tried combining ConvNets and fully connected layers with the same result.\n",
        "My last (and successful) attempt was to mimic the final layers described in RetinaNet paper. In the beginning the net had some troubles with learning because I did not reshape the output correctly, but with proper reshaping the model could finally learn well and fast.\n",
        "\n",
        "All heads are convnets consisting of 5 layers with the first layer being of kernel size 5 and further ones being of kernel size 3. Activation function used is ReLU.\n",
        "\n",
        "## Training process\n",
        "After noticing how time-consuming target creation was, I decided to create a finite train set about 10 times the size of the test set and precompute target boxes for each of the train examples.\n",
        "To make learning process stable I tried batch sizes of 16 and 32.\n",
        "SGD (i. e. batch size = 1) was pretty erratic while learning. I stuck with 32 since it worked quite well.\n",
        "Because I was trying out various batch sizes, I made the learning rate related to the batch size.\n",
        "Some research I did later suggests that was a bad idea (learning rate should be increased not decreased when batch size is increased), but I did not change the formula once I got the model to work.\n",
        "\n",
        "Training took less than two hours on a laptop PC utilising a GeForce GTX 1650Ti GPU.\n",
        "\n",
        "\n",
        "## Getting predictions from model output\n",
        "### Score - model confidence\n",
        "To order model predictions from best to worst I compute a score for each of the anchors.\n",
        "\n",
        "Let $A$ be an anchor. Let $d_1, ..., d_5$ be the model's output predicting the digit for anchor $A$ and $r_1, r_2$ the model's output predicting the rotation (all before softmax).\n",
        "I set score of anchor $A$ to be $$s:=max(softmax(d_1, ..., d_5)) + max(softmax(r_1, r_2))$$\n",
        "Maximal possible score would thus be $2$.\n",
        "### Algorithm\n",
        "I started out with a simple algorithm for selecting final predictions - I would not allow any overlapping rectangles and always take the six most confident (highest score) predictions. I also rejected any malformed anchors (e. g. $X_{max} < X_{min}$ or $X_{min} < 0$). This turned out not to give good enough results because the images do not always contain six numbers and can overlap. Still, this was a good starting point.\n",
        "\n",
        "After that I set the maximum IOU overlap to 0.1. It helped my net a little bit, but I was still losing a lot of accuracy on examples with less than 6 images.\n",
        "\n",
        "I examined a couple of randomly generated images and how high the scores were for correctly and incorrectly predicted boxes.\n",
        "It turned out that if I set the score threshold to 1.9999 (I would reject boxes with score < 1.9999), my net would do much better.\n",
        "\n",
        "This is a working solution, but I also suspect the score threshold might need to be changed if, for example, the net architecture or some learning parameters are changed. In other words, prediction selecting algorithm is fitted to a particular model."
      ]
    }
  ],
  "metadata": {
    "colab": {
      "collapsed_sections": [],
      "name": "Copy_of_GSN_2021_22_Assignment_2_RetinaMNIST_with_rotations_2.ipynb",
      "provenance": []
    },
    "kernelspec": {
      "display_name": "Python 3 (ipykernel)",
      "language": "python",
      "name": "python3"
    },
    "language_info": {
      "codemirror_mode": {
        "name": "ipython",
        "version": 3
      },
      "file_extension": ".py",
      "mimetype": "text/x-python",
      "name": "python",
      "nbconvert_exporter": "python",
      "pygments_lexer": "ipython3",
      "version": "3.8.10"
    }
  },
  "nbformat": 4,
  "nbformat_minor": 0
}