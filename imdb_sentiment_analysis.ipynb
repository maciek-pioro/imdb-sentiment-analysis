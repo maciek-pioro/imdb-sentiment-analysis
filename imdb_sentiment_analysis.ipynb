{
 "cells": [
  {
   "cell_type": "markdown",
   "metadata": {
    "id": "YhhKpOc0fl9Q"
   },
   "source": [
    "# Task definition\n",
    "Implement LSTM Sentiment Tagger for imdb reviews dataset.\n",
    "\n",
    "1. (5pt) Fill missing code below\n",
    "    * 1pt implement vectorization\n",
    "    * 2pt implement \\_\\_init\\_\\_ and forward methods of models\n",
    "    * 2pt implement collate function\n",
    "2. (4pt) Implement training loop, choose proper loss function, use clear ml for max points.\n",
    "    * 2pts is a baseline for well written, working code\n",
    "    * 2pts if clear ml used properly\n",
    "3. (3pt) Train the models (find proper hyperparams). Make sure you are not overfitting or underfitting. Visualize training of your best model (plot training, and test loss/accuracy in time). Your model should reach at least 87% accuracy. For max points it should exceed 89%. \n",
    "    * 1pt for accuracy above 89%\n",
    "    * 1pt for accuracy above 87%\n",
    "    * 1pt for visualizations\n",
    "\n",
    "Remarks:\n",
    "* Use embeddings of size 50\n",
    "* Use 0.5 threshold when computing accuracy.\n",
    "* Use supplied dataset for training and evaluation.\n",
    "* You do not have to use validation set.\n",
    "* You should monitor overfitting during training.\n",
    "* For max points use clear ml to store and manage logs from your experiments. \n",
    "* We encourage to use pytorch lightning library (Addtional point for using it - however the sum must not exceed 12)\n",
    "\n",
    "[Clear ML documentation](https://clear.ml/docs/latest/docs/)\n",
    "\n",
    "[Clear ML notebook exercise from bootcamp](https://colab.research.google.com/drive/1wtLb4gg8beLS7smcyJlOZppn6_rQvSxL?usp=sharing)"
   ]
  },
  {
   "cell_type": "code",
   "execution_count": 4,
   "metadata": {
    "colab": {
     "base_uri": "https://localhost:8080/"
    },
    "id": "IE-XdhV_b2nS",
    "outputId": "b758b888-d430-470e-eb6f-bb839e98aa2e"
   },
   "outputs": [
    {
     "name": "stdout",
     "output_type": "stream",
     "text": [
      "Requirement already satisfied: clearml in /home/maciej/Documents/Studia/Zima_2021/GSN/homework3/hw3/lib/python3.8/site-packages (1.1.5)\n",
      "Requirement already satisfied: plotly-express in /home/maciej/Documents/Studia/Zima_2021/GSN/homework3/hw3/lib/python3.8/site-packages (0.4.1)\n",
      "Requirement already satisfied: nbformat in /home/maciej/Documents/Studia/Zima_2021/GSN/homework3/hw3/lib/python3.8/site-packages (5.1.3)\n",
      "Requirement already satisfied: requests>=2.20.0 in /home/maciej/Documents/Studia/Zima_2021/GSN/homework3/hw3/lib/python3.8/site-packages (from clearml) (2.27.0)\n",
      "Requirement already satisfied: psutil>=3.4.2 in /home/maciej/Documents/Studia/Zima_2021/GSN/homework3/hw3/lib/python3.8/site-packages (from clearml) (5.9.0)\n",
      "Requirement already satisfied: Pillow>=4.1.1 in /home/maciej/Documents/Studia/Zima_2021/GSN/homework3/hw3/lib/python3.8/site-packages (from clearml) (9.0.0)\n",
      "Requirement already satisfied: urllib3>=1.21.1 in /home/maciej/Documents/Studia/Zima_2021/GSN/homework3/hw3/lib/python3.8/site-packages (from clearml) (1.26.7)\n",
      "Requirement already satisfied: attrs>=18.0 in /home/maciej/Documents/Studia/Zima_2021/GSN/homework3/hw3/lib/python3.8/site-packages (from clearml) (21.4.0)\n",
      "Requirement already satisfied: numpy>=1.10 in /home/maciej/Documents/Studia/Zima_2021/GSN/homework3/hw3/lib/python3.8/site-packages (from clearml) (1.22.0)\n",
      "Requirement already satisfied: furl>=2.0.0 in /home/maciej/Documents/Studia/Zima_2021/GSN/homework3/hw3/lib/python3.8/site-packages (from clearml) (2.1.3)\n",
      "Requirement already satisfied: pathlib2>=2.3.0 in /home/maciej/Documents/Studia/Zima_2021/GSN/homework3/hw3/lib/python3.8/site-packages (from clearml) (2.3.6)\n",
      "Requirement already satisfied: jsonschema>=2.6.0 in /home/maciej/Documents/Studia/Zima_2021/GSN/homework3/hw3/lib/python3.8/site-packages (from clearml) (4.3.3)\n",
      "Requirement already satisfied: pyparsing>=2.0.3 in /home/maciej/Documents/Studia/Zima_2021/GSN/homework3/hw3/lib/python3.8/site-packages (from clearml) (3.0.6)\n",
      "Requirement already satisfied: python-dateutil>=2.6.1 in /home/maciej/Documents/Studia/Zima_2021/GSN/homework3/hw3/lib/python3.8/site-packages (from clearml) (2.8.2)\n",
      "Requirement already satisfied: future>=0.16.0 in /home/maciej/Documents/Studia/Zima_2021/GSN/homework3/hw3/lib/python3.8/site-packages (from clearml) (0.18.2)\n",
      "Requirement already satisfied: PyYAML>=3.12 in /home/maciej/Documents/Studia/Zima_2021/GSN/homework3/hw3/lib/python3.8/site-packages (from clearml) (6.0)\n",
      "Requirement already satisfied: six>=1.11.0 in /home/maciej/Documents/Studia/Zima_2021/GSN/homework3/hw3/lib/python3.8/site-packages (from clearml) (1.16.0)\n",
      "Requirement already satisfied: pyjwt<=2.1.0,>=1.6.4 in /home/maciej/Documents/Studia/Zima_2021/GSN/homework3/hw3/lib/python3.8/site-packages (from clearml) (2.1.0)\n",
      "Requirement already satisfied: pandas>=0.20.0 in /home/maciej/Documents/Studia/Zima_2021/GSN/homework3/hw3/lib/python3.8/site-packages (from plotly-express) (1.3.5)\n",
      "Requirement already satisfied: statsmodels>=0.9.0 in /home/maciej/Documents/Studia/Zima_2021/GSN/homework3/hw3/lib/python3.8/site-packages (from plotly-express) (0.13.1)\n",
      "Requirement already satisfied: patsy>=0.5 in /home/maciej/Documents/Studia/Zima_2021/GSN/homework3/hw3/lib/python3.8/site-packages (from plotly-express) (0.5.2)\n",
      "Requirement already satisfied: plotly>=4.1.0 in /home/maciej/Documents/Studia/Zima_2021/GSN/homework3/hw3/lib/python3.8/site-packages (from plotly-express) (5.5.0)\n",
      "Requirement already satisfied: scipy>=0.18 in /home/maciej/Documents/Studia/Zima_2021/GSN/homework3/hw3/lib/python3.8/site-packages (from plotly-express) (1.7.3)\n",
      "Requirement already satisfied: traitlets>=4.1 in /home/maciej/Documents/Studia/Zima_2021/GSN/homework3/hw3/lib/python3.8/site-packages (from nbformat) (5.1.1)\n",
      "Requirement already satisfied: ipython-genutils in /home/maciej/Documents/Studia/Zima_2021/GSN/homework3/hw3/lib/python3.8/site-packages (from nbformat) (0.2.0)\n",
      "Requirement already satisfied: jupyter-core in /home/maciej/Documents/Studia/Zima_2021/GSN/homework3/hw3/lib/python3.8/site-packages (from nbformat) (4.9.1)\n",
      "Requirement already satisfied: charset-normalizer~=2.0.0; python_version >= \"3\" in /home/maciej/Documents/Studia/Zima_2021/GSN/homework3/hw3/lib/python3.8/site-packages (from requests>=2.20.0->clearml) (2.0.10)\n",
      "Requirement already satisfied: certifi>=2017.4.17 in /home/maciej/Documents/Studia/Zima_2021/GSN/homework3/hw3/lib/python3.8/site-packages (from requests>=2.20.0->clearml) (2021.10.8)\n",
      "Requirement already satisfied: idna<4,>=2.5; python_version >= \"3\" in /home/maciej/Documents/Studia/Zima_2021/GSN/homework3/hw3/lib/python3.8/site-packages (from requests>=2.20.0->clearml) (3.3)\n",
      "Requirement already satisfied: orderedmultidict>=1.0.1 in /home/maciej/Documents/Studia/Zima_2021/GSN/homework3/hw3/lib/python3.8/site-packages (from furl>=2.0.0->clearml) (1.0.1)\n",
      "Requirement already satisfied: importlib-resources>=1.4.0; python_version < \"3.9\" in /home/maciej/Documents/Studia/Zima_2021/GSN/homework3/hw3/lib/python3.8/site-packages (from jsonschema>=2.6.0->clearml) (5.4.0)\n",
      "Requirement already satisfied: pyrsistent!=0.17.0,!=0.17.1,!=0.17.2,>=0.14.0 in /home/maciej/Documents/Studia/Zima_2021/GSN/homework3/hw3/lib/python3.8/site-packages (from jsonschema>=2.6.0->clearml) (0.18.0)\n",
      "Requirement already satisfied: pytz>=2017.3 in /home/maciej/Documents/Studia/Zima_2021/GSN/homework3/hw3/lib/python3.8/site-packages (from pandas>=0.20.0->plotly-express) (2021.3)\n",
      "Requirement already satisfied: tenacity>=6.2.0 in /home/maciej/Documents/Studia/Zima_2021/GSN/homework3/hw3/lib/python3.8/site-packages (from plotly>=4.1.0->plotly-express) (8.0.1)\n",
      "Requirement already satisfied: zipp>=3.1.0; python_version < \"3.10\" in /home/maciej/Documents/Studia/Zima_2021/GSN/homework3/hw3/lib/python3.8/site-packages (from importlib-resources>=1.4.0; python_version < \"3.9\"->jsonschema>=2.6.0->clearml) (3.7.0)\n"
     ]
    }
   ],
   "source": [
    "!pip install clearml plotly-express nbformat kaleido\n",
    "\n",
    "import os\n",
    "from collections import defaultdict\n",
    "\n",
    "import numpy as np\n",
    "import pandas as pd\n",
    "from tqdm.auto import tqdm\n",
    "import torchtext\n",
    "from clearml import Task, Model\n",
    "\n",
    "import torch\n",
    "from torch import nn\n",
    "from torch.nn import functional as F\n",
    "from torch import optim\n",
    "import pytorch_lightning as pl\n",
    "\n",
    "from torch.utils.data import Dataset, DataLoader\n",
    "from pytorch_lightning import Trainer\n",
    "\n",
    "import pickle\n",
    "\n",
    "import plotly.express as px\n",
    "import nbformat"
   ]
  },
  {
   "cell_type": "code",
   "execution_count": 5,
   "metadata": {
    "id": "ilxUhICVWQqZ"
   },
   "outputs": [],
   "source": [
    "\n",
    "web_server = 'https://app.community.clear.ml'\n",
    "api_server = 'https://api.community.clear.ml'\n",
    "files_server = 'https://files.community.clear.ml'\n",
    "access_key = ''#@param {type:\"string\"}\n",
    "secret_key = ''#@param {type:\"string\"}\n",
    "\n",
    "Task.set_credentials(web_host=web_server,\n",
    "                     api_host=api_server,\n",
    "                     files_host=files_server,\n",
    "                     key=access_key,\n",
    "                     secret=secret_key)"
   ]
  },
  {
   "cell_type": "code",
   "execution_count": 6,
   "metadata": {
    "colab": {
     "base_uri": "https://localhost:8080/"
    },
    "id": "iULzpw-rzKrA",
    "outputId": "9131da75-c687-4bb3-e78b-be83cfe1a5db"
   },
   "outputs": [],
   "source": [
    "# !pip install gdown\n",
    "# !gdown https://drive.google.com/uc?id=1hK-3iiRPlbePb99Fe-34LJNZ5yB-nduq\n",
    "# !tar -xvzf imdb_dataset.gz\n",
    "data = pd.read_csv(\"imdb_dataset.csv\")"
   ]
  },
  {
   "cell_type": "code",
   "execution_count": 7,
   "metadata": {
    "id": "sisjcg2gtIdR"
   },
   "outputs": [],
   "source": [
    "PADDING_VALUE = 0\n",
    "PADDING_OBJECT = object()\n",
    "\n",
    "def flatten(list_of_lists):\n",
    "  result = []\n",
    "  for l in list_of_lists:\n",
    "    result.extend(l)\n",
    "  return result\n",
    "\n",
    "class NaiveVectorizer:\n",
    "    def __init__(self, tokenized_data, **kwargs):\n",
    "        \"\"\"Converts data from string to vector of ints that represent words. \n",
    "        Prepare lookup dict (self.wv) that maps token to int. Reserve index 0 for padding.\n",
    "        \"\"\"\n",
    "        tokenized_data = [seq.split() for seq in tokenized_data]\n",
    "        self.wv = {}\n",
    "        self.wv[PADDING_OBJECT] = PADDING_VALUE\n",
    "        ### Your code goes here ###\n",
    "        for i, token in enumerate(set(flatten(tokenized_data)), start = PADDING_VALUE + 1):\n",
    "          self.wv[token] = i  \n",
    "        \n",
    "        self.vocab_size = len(self.wv)\n",
    "        ##################################\n",
    "\n",
    "    def vectorize(self, tokenized_seq):\n",
    "        \"\"\"Converts sequence of tokens into sequence of indices.\n",
    "        If the token does not appear in the vocabulary(self.wv) it is ommited\n",
    "        Returns torch tensor of shape (seq_len,) and type long.\"\"\"\n",
    "        ### Your code goes here ###\n",
    "        indices_list = [self.wv[token] for token in tokenized_seq if token in self.wv]\n",
    "        return torch.tensor(indices_list, dtype=torch.long)\n",
    "\n",
    "        ##################################\n",
    "\n",
    "class ImdbDataset(Dataset):\n",
    "    SPLIT_TYPES = [\"train\", \"test\", \"unsup\"]\n",
    "\n",
    "    def __init__(self, data, preprocess_fn, split=\"train\"):\n",
    "        super(ImdbDataset, self).__init__()\n",
    "        if split not in self.SPLIT_TYPES:\n",
    "            raise AttributeError(f\"No such split type: {split}\")\n",
    "\n",
    "        self.split = split\n",
    "        self.label = [i for i, c in enumerate(data.columns) if c == \"sentiment\"][0]\n",
    "        self.data_col = [i for i, c in enumerate(data.columns) if c == \"tokenized\"][0]\n",
    "        self.data = data[data[\"split\"] == self.split]\n",
    "        self.preprocess_fn = preprocess_fn\n",
    "\n",
    "    def __len__(self):\n",
    "        return len(self.data)\n",
    "\n",
    "    def __getitem__(self, idx):\n",
    "        seq = self.preprocess_fn(self.data.iloc[idx, self.data_col].split())\n",
    "        label = self.data.iloc[idx, self.label]\n",
    "        return (seq, label)\n",
    "\n",
    "# naive_vectorizer = NaiveVectorizer(data.loc[data[\"split\"] == \"train\", \"tokenized\"])\n",
    "with open('vectorizer.p', 'rb') as f:\n",
    "    naive_vectorizer = pickle.load(f)\n",
    "\n",
    "def get_datasets():\n",
    "    train_dataset = ImdbDataset(data, naive_vectorizer.vectorize)\n",
    "    test_dataset = ImdbDataset(data, naive_vectorizer.vectorize, split=\"test\")\n",
    "\n",
    "    return train_dataset, test_dataset\n",
    "\n",
    "\n",
    "def custom_collate_fn(pairs):\n",
    "    \"\"\"This function is supposed to be used by dataloader to prepare batches\n",
    "    Input: list of tuples (sequence, label)\n",
    "    Output: sequences_padded_to_the_same_lenths, original_lenghts_of_sequences, lables.\n",
    "    torch.nn.utils.rnn.pad_sequence might be usefull here\n",
    "    \"\"\"\n",
    "    ### Your code goes here ###\n",
    "    sequences_python = [seq for seq, _ in pairs]\n",
    "    labels = [label for _, label in pairs]\n",
    "    lengths = [len(seq) for seq in sequences_python]\n",
    "    sequences_torch = torch.nn.utils.rnn.pad_sequence(sequences_python).squeeze().T\n",
    "\n",
    "    #################################\n",
    "    return sequences_torch, torch.tensor(lengths, dtype=int), torch.tensor(labels).reshape([-1, 1])"
   ]
  },
  {
   "cell_type": "code",
   "execution_count": 8,
   "metadata": {},
   "outputs": [],
   "source": [
    "def count_parameters(model):\n",
    "    return sum(p.numel() for p in model.parameters() if p.requires_grad)\n",
    "\n",
    "def get_number_of_correct_predictions(preds, y):\n",
    "    #round predictions to the closest integer\n",
    "    rounded_preds = torch.round(torch.sigmoid(preds))\n",
    "    correct = (rounded_preds == y).float() #convert into float for division \n",
    "    acc = correct.sum()\n",
    "    return acc\n",
    "\n",
    "train_set, test_set = get_datasets()"
   ]
  },
  {
   "cell_type": "code",
   "execution_count": 9,
   "metadata": {
    "id": "KJjHVS8riqWZ"
   },
   "outputs": [],
   "source": [
    "\"\"\"Implement LSTMSentimentTagger. \n",
    "The model should use a LSTM module.\n",
    "Use torch.nn.utils.rnn.pack_padded_sequence to optimize processing of sequences.\n",
    "When computing vocab_size of embedding layer remeber that padding_symbol counts to the vocab.\n",
    "Use sigmoid activation function.\n",
    "\"\"\"\n",
    "class LSTMSentimentTagger(pl.LightningModule):\n",
    "    def __init__(self, vocab_size, classes, embedding_dim=50, hidden_dim=2, layers_count=5, lr=1e-3, batch_size=64):\n",
    "        super().__init__()\n",
    "        ### Your code goes here ###\n",
    "        self.save_hyperparameters()\n",
    "        self.embedding_dim = embedding_dim\n",
    "        self.hidden_dim = hidden_dim\n",
    "        self.vocab_size = vocab_size\n",
    "        self.classes = classes\n",
    "        self.layers_count = layers_count\n",
    "        self.lr = lr\n",
    "        self.batch_size = batch_size\n",
    "        self.validation_correct = 0\n",
    "        self.validation_total = 0\n",
    "\n",
    "        self._init_modules()\n",
    "        #################################\n",
    "    \n",
    "    def _init_modules(self):\n",
    "        self.embedding = nn.Embedding(self.vocab_size, self.embedding_dim)\n",
    "        self.lstm = nn.LSTM(input_size = self.embedding_dim, hidden_size=self.hidden_dim, num_layers=self.layers_count, batch_first=True)\n",
    "        self.fc = nn.Linear(in_features = self.hidden_dim, out_features = self.classes)\n",
    "\n",
    "    def forward(self, sentences, lengths):\n",
    "        embeddings = torch.nn.utils.rnn.pack_padded_sequence(self.embedding(sentences), lengths.to('cpu'), batch_first=True, enforce_sorted=False)\n",
    "        thru_lstm, (h_n, c_n) = self.lstm(embeddings)\n",
    "        thru_lstm, _ = torch.nn.utils.rnn.pad_packed_sequence(thru_lstm, batch_first=True)\n",
    "        number = self.fc(thru_lstm[torch.arange(thru_lstm.size(0)), lengths-1].squeeze())\n",
    "        #################################\n",
    "        return number\n",
    "    \n",
    "    def training_step(self, batch, batch_idx):\n",
    "        seqs, lengths, labels = batch\n",
    "        logits = self(seqs, lengths)\n",
    "        loss = F.binary_cross_entropy_with_logits(logits, labels)\n",
    "        acc = get_number_of_correct_predictions(logits, labels)\n",
    "        self.log('train_loss', loss, on_epoch=True, on_step=True)\n",
    "        self.log('train_correct', acc, on_epoch=True, on_step=True)\n",
    "        return {'loss': loss}\n",
    "\n",
    "    def validation_step(self, batch, batch_idx):\n",
    "        seqs, lengths, labels = batch\n",
    "        logits = self(seqs, lengths)\n",
    "        loss = F.binary_cross_entropy_with_logits(logits, labels)\n",
    "        acc = get_number_of_correct_predictions(logits, labels)\n",
    "        self.log('val_loss', loss, on_epoch=True, on_step=True)\n",
    "        self.log('val_correct', acc, on_epoch=True, on_step=True)\n",
    "        return {'loss': loss}\n",
    "\n",
    "    def configure_optimizers(self):\n",
    "        optimizer = torch.optim.Adam(self.parameters(), lr=self.lr)\n",
    "        return optimizer\n",
    "    \n",
    "    def train_dataloader(self):\n",
    "        # num_workers = 8 because my CPU has 8 threads\n",
    "        return DataLoader(train_set, self.batch_size, collate_fn=custom_collate_fn, shuffle=True, num_workers=8)\n",
    "\n",
    "    def val_dataloader(self):\n",
    "        return DataLoader(test_set, self.batch_size, collate_fn=custom_collate_fn, num_workers=8)\n"
   ]
  },
  {
   "cell_type": "markdown",
   "metadata": {
    "id": "aOvWoFyNwPBS"
   },
   "source": [
    "# Trainig loop and visualizations\n"
   ]
  },
  {
   "cell_type": "code",
   "execution_count": 7,
   "metadata": {
    "colab": {
     "base_uri": "https://localhost:8080/",
     "height": 1000
    },
    "id": "RN_R1zWwO700",
    "outputId": "bbfb98af-1322-45af-fcf9-4de4ca46f180"
   },
   "outputs": [
    {
     "name": "stdout",
     "output_type": "stream",
     "text": [
      "ClearML Task: overwriting (reusing) task id=17ebdc2df698445da7995cd5bd3723b9\n",
      "2022-01-09 02:05:45,009 - clearml.Task - INFO - No repository found, storing script code instead\n",
      "ClearML results page: https://app.community.clear.ml/projects/b62c3994002846a68db49133adfa829f/experiments/17ebdc2df698445da7995cd5bd3723b9/output/log\n"
     ]
    },
    {
     "name": "stderr",
     "output_type": "stream",
     "text": [
      "GPU available: True, used: True\n",
      "TPU available: False, using: 0 TPU cores\n",
      "IPU available: False, using: 0 IPUs\n",
      "LOCAL_RANK: 0 - CUDA_VISIBLE_DEVICES: [0]\n",
      "\n",
      "  | Name      | Type      | Params\n",
      "----------------------------------------\n",
      "0 | embedding | Embedding | 4.4 M \n",
      "1 | lstm      | LSTM      | 1.8 M \n",
      "2 | fc        | Linear    | 201   \n",
      "----------------------------------------\n",
      "6.2 M     Trainable params\n",
      "0         Non-trainable params\n",
      "6.2 M     Total params\n",
      "24.645    Total estimated model params size (MB)\n"
     ]
    },
    {
     "name": "stdout",
     "output_type": "stream",
     "text": [
      "Epoch 14: 100%|██████████| 782/782 [02:47<00:00,  4.68it/s, loss=0.246, v_num=68]\n",
      "ClearML Task: created new task id=a57664e9bfd4448aa652dfc581294632\n",
      "ClearML results page: https://app.community.clear.ml/projects/b62c3994002846a68db49133adfa829f/experiments/a57664e9bfd4448aa652dfc581294632/output/log\n",
      "2022-01-09 02:48:24,162 - clearml.Task - INFO - No repository found, storing script code instead\n"
     ]
    },
    {
     "name": "stderr",
     "output_type": "stream",
     "text": [
      "GPU available: True, used: True\n",
      "TPU available: False, using: 0 TPU cores\n",
      "IPU available: False, using: 0 IPUs\n",
      "LOCAL_RANK: 0 - CUDA_VISIBLE_DEVICES: [0]\n",
      "\n",
      "  | Name      | Type      | Params\n",
      "----------------------------------------\n",
      "0 | embedding | Embedding | 4.4 M \n",
      "1 | lstm      | LSTM      | 1.8 M \n",
      "2 | fc        | Linear    | 201   \n",
      "----------------------------------------\n",
      "6.2 M     Trainable params\n",
      "0         Non-trainable params\n",
      "6.2 M     Total params\n",
      "24.645    Total estimated model params size (MB)\n"
     ]
    },
    {
     "name": "stdout",
     "output_type": "stream",
     "text": [
      "Epoch 14: 100%|██████████| 782/782 [02:47<00:00,  4.67it/s, loss=0.692, v_num=69]\n",
      "ClearML Task: created new task id=15fa246119a84950bf3f6c2b5a0b8911\n",
      "ClearML results page: https://app.community.clear.ml/projects/b62c3994002846a68db49133adfa829f/experiments/15fa246119a84950bf3f6c2b5a0b8911/output/log\n",
      "2022-01-09 03:30:33,610 - clearml.Task - INFO - No repository found, storing script code instead\n"
     ]
    },
    {
     "name": "stderr",
     "output_type": "stream",
     "text": [
      "GPU available: True, used: True\n",
      "TPU available: False, using: 0 TPU cores\n",
      "IPU available: False, using: 0 IPUs\n",
      "LOCAL_RANK: 0 - CUDA_VISIBLE_DEVICES: [0]\n",
      "\n",
      "  | Name      | Type      | Params\n",
      "----------------------------------------\n",
      "0 | embedding | Embedding | 4.4 M \n",
      "1 | lstm      | LSTM      | 1.8 M \n",
      "2 | fc        | Linear    | 201   \n",
      "----------------------------------------\n",
      "6.2 M     Trainable params\n",
      "0         Non-trainable params\n",
      "6.2 M     Total params\n",
      "24.645    Total estimated model params size (MB)\n"
     ]
    },
    {
     "name": "stdout",
     "output_type": "stream",
     "text": [
      "Epoch 14: 100%|██████████| 782/782 [02:47<00:00,  4.67it/s, loss=0.359, v_num=70]\n",
      "ClearML Task: created new task id=c7f65b8fd064472cb2e1b961746f6f9c\n",
      "ClearML results page: https://app.community.clear.ml/projects/b62c3994002846a68db49133adfa829f/experiments/c7f65b8fd064472cb2e1b961746f6f9c/output/log\n",
      "2022-01-09 04:12:39,276 - clearml.Task - INFO - No repository found, storing script code instead\n"
     ]
    },
    {
     "name": "stderr",
     "output_type": "stream",
     "text": [
      "GPU available: True, used: True\n",
      "TPU available: False, using: 0 TPU cores\n",
      "IPU available: False, using: 0 IPUs\n",
      "LOCAL_RANK: 0 - CUDA_VISIBLE_DEVICES: [0]\n",
      "\n",
      "  | Name      | Type      | Params\n",
      "----------------------------------------\n",
      "0 | embedding | Embedding | 4.4 M \n",
      "1 | lstm      | LSTM      | 1.5 M \n",
      "2 | fc        | Linear    | 201   \n",
      "----------------------------------------\n",
      "5.8 M     Trainable params\n",
      "0         Non-trainable params\n",
      "5.8 M     Total params\n",
      "23.358    Total estimated model params size (MB)\n"
     ]
    },
    {
     "name": "stdout",
     "output_type": "stream",
     "text": [
      "Epoch 14: 100%|██████████| 782/782 [02:22<00:00,  5.47it/s, loss=0.256, v_num=71]\n",
      "ClearML Task: created new task id=bb4b3a00bf9e4ff6916502bf53b9ec25\n",
      "ClearML results page: https://app.community.clear.ml/projects/b62c3994002846a68db49133adfa829f/experiments/bb4b3a00bf9e4ff6916502bf53b9ec25/output/log\n",
      "2022-01-09 04:48:33,383 - clearml.Task - INFO - No repository found, storing script code instead\n"
     ]
    },
    {
     "name": "stderr",
     "output_type": "stream",
     "text": [
      "GPU available: True, used: True\n",
      "TPU available: False, using: 0 TPU cores\n",
      "IPU available: False, using: 0 IPUs\n",
      "LOCAL_RANK: 0 - CUDA_VISIBLE_DEVICES: [0]\n",
      "\n",
      "  | Name      | Type      | Params\n",
      "----------------------------------------\n",
      "0 | embedding | Embedding | 4.4 M \n",
      "1 | lstm      | LSTM      | 1.5 M \n",
      "2 | fc        | Linear    | 201   \n",
      "----------------------------------------\n",
      "5.8 M     Trainable params\n",
      "0         Non-trainable params\n",
      "5.8 M     Total params\n",
      "23.358    Total estimated model params size (MB)\n"
     ]
    },
    {
     "name": "stdout",
     "output_type": "stream",
     "text": [
      "Epoch 14: 100%|██████████| 782/782 [02:23<00:00,  5.47it/s, loss=0.312, v_num=72]\n",
      "ClearML Task: created new task id=f6e122608bb6457cb7e741559165663f\n",
      "ClearML results page: https://app.community.clear.ml/projects/b62c3994002846a68db49133adfa829f/experiments/f6e122608bb6457cb7e741559165663f/output/log\n",
      "2022-01-09 05:24:28,513 - clearml.Task - INFO - No repository found, storing script code instead\n"
     ]
    },
    {
     "name": "stderr",
     "output_type": "stream",
     "text": [
      "GPU available: True, used: True\n",
      "TPU available: False, using: 0 TPU cores\n",
      "IPU available: False, using: 0 IPUs\n",
      "LOCAL_RANK: 0 - CUDA_VISIBLE_DEVICES: [0]\n",
      "\n",
      "  | Name      | Type      | Params\n",
      "----------------------------------------\n",
      "0 | embedding | Embedding | 4.4 M \n",
      "1 | lstm      | LSTM      | 1.5 M \n",
      "2 | fc        | Linear    | 201   \n",
      "----------------------------------------\n",
      "5.8 M     Trainable params\n",
      "0         Non-trainable params\n",
      "5.8 M     Total params\n",
      "23.358    Total estimated model params size (MB)\n"
     ]
    },
    {
     "name": "stdout",
     "output_type": "stream",
     "text": [
      "Epoch 8:  83%|████████▎ | 652/782 [02:04<00:24,  5.25it/s, loss=0.459, v_num=73]"
     ]
    },
    {
     "name": "stderr",
     "output_type": "stream",
     "text": [
      "Retrying (Retry(total=237, connect=237, read=240, redirect=240, status=240)) after connection broken by 'NewConnectionError('<urllib3.connection.HTTPSConnection object at 0x7fd8d69bf340>: Failed to establish a new connection: [Errno -3] Temporary failure in name resolution')': /v2.13/events.add_batch\n"
     ]
    },
    {
     "name": "stdout",
     "output_type": "stream",
     "text": [
      "Epoch 14: 100%|██████████| 782/782 [02:23<00:00,  5.46it/s, loss=0.416, v_num=73]\n",
      "ClearML Task: created new task id=ee8f7b6367a74a4698af33ce27dee6b3\n",
      "ClearML results page: https://app.community.clear.ml/projects/b62c3994002846a68db49133adfa829f/experiments/ee8f7b6367a74a4698af33ce27dee6b3/output/log\n",
      "2022-01-09 06:00:23,633 - clearml.Task - INFO - No repository found, storing script code instead\n"
     ]
    },
    {
     "name": "stderr",
     "output_type": "stream",
     "text": [
      "GPU available: True, used: True\n",
      "TPU available: False, using: 0 TPU cores\n",
      "IPU available: False, using: 0 IPUs\n",
      "LOCAL_RANK: 0 - CUDA_VISIBLE_DEVICES: [0]\n",
      "\n",
      "  | Name      | Type      | Params\n",
      "----------------------------------------\n",
      "0 | embedding | Embedding | 4.4 M \n",
      "1 | lstm      | LSTM      | 1.2 M \n",
      "2 | fc        | Linear    | 201   \n",
      "----------------------------------------\n",
      "5.5 M     Trainable params\n",
      "0         Non-trainable params\n",
      "5.5 M     Total params\n",
      "22.072    Total estimated model params size (MB)\n"
     ]
    },
    {
     "name": "stdout",
     "output_type": "stream",
     "text": [
      "Epoch 14: 100%|██████████| 782/782 [02:03<00:00,  6.35it/s, loss=0.187, v_num=74]\n",
      "ClearML Task: created new task id=6b01a4a830264179b10c378bbee5660c\n",
      "ClearML results page: https://app.community.clear.ml/projects/b62c3994002846a68db49133adfa829f/experiments/6b01a4a830264179b10c378bbee5660c/output/log\n",
      "2022-01-09 06:31:20,313 - clearml.Task - INFO - No repository found, storing script code instead\n"
     ]
    },
    {
     "name": "stderr",
     "output_type": "stream",
     "text": [
      "GPU available: True, used: True\n",
      "TPU available: False, using: 0 TPU cores\n",
      "IPU available: False, using: 0 IPUs\n",
      "LOCAL_RANK: 0 - CUDA_VISIBLE_DEVICES: [0]\n",
      "\n",
      "  | Name      | Type      | Params\n",
      "----------------------------------------\n",
      "0 | embedding | Embedding | 4.4 M \n",
      "1 | lstm      | LSTM      | 1.2 M \n",
      "2 | fc        | Linear    | 201   \n",
      "----------------------------------------\n",
      "5.5 M     Trainable params\n",
      "0         Non-trainable params\n",
      "5.5 M     Total params\n",
      "22.072    Total estimated model params size (MB)\n"
     ]
    },
    {
     "name": "stdout",
     "output_type": "stream",
     "text": [
      "Epoch 14: 100%|██████████| 782/782 [02:02<00:00,  6.36it/s, loss=0.163, v_num=75]\n",
      "ClearML Task: created new task id=20408828b72a4a11849e5cda4affe196\n",
      "ClearML results page: https://app.community.clear.ml/projects/b62c3994002846a68db49133adfa829f/experiments/20408828b72a4a11849e5cda4affe196/output/log\n",
      "2022-01-09 07:02:20,580 - clearml.Task - INFO - No repository found, storing script code instead\n"
     ]
    },
    {
     "name": "stderr",
     "output_type": "stream",
     "text": [
      "GPU available: True, used: True\n",
      "TPU available: False, using: 0 TPU cores\n",
      "IPU available: False, using: 0 IPUs\n",
      "LOCAL_RANK: 0 - CUDA_VISIBLE_DEVICES: [0]\n",
      "\n",
      "  | Name      | Type      | Params\n",
      "----------------------------------------\n",
      "0 | embedding | Embedding | 4.4 M \n",
      "1 | lstm      | LSTM      | 1.2 M \n",
      "2 | fc        | Linear    | 201   \n",
      "----------------------------------------\n",
      "5.5 M     Trainable params\n",
      "0         Non-trainable params\n",
      "5.5 M     Total params\n",
      "22.072    Total estimated model params size (MB)\n"
     ]
    },
    {
     "name": "stdout",
     "output_type": "stream",
     "text": [
      "Epoch 14: 100%|██████████| 782/782 [02:03<00:00,  6.35it/s, loss=0.306, v_num=76]\n",
      "ClearML Task: created new task id=0078856f809a439ea2a9e00d578cbd7d\n",
      "ClearML results page: https://app.community.clear.ml/projects/b62c3994002846a68db49133adfa829f/experiments/0078856f809a439ea2a9e00d578cbd7d/output/log\n",
      "2022-01-09 07:33:19,154 - clearml.Task - INFO - No repository found, storing script code instead\n"
     ]
    },
    {
     "name": "stderr",
     "output_type": "stream",
     "text": [
      "GPU available: True, used: True\n",
      "TPU available: False, using: 0 TPU cores\n",
      "IPU available: False, using: 0 IPUs\n",
      "LOCAL_RANK: 0 - CUDA_VISIBLE_DEVICES: [0]\n",
      "\n",
      "  | Name      | Type      | Params\n",
      "----------------------------------------\n",
      "0 | embedding | Embedding | 4.4 M \n",
      "1 | lstm      | LSTM      | 464 K \n",
      "2 | fc        | Linear    | 101   \n",
      "----------------------------------------\n",
      "4.8 M     Trainable params\n",
      "0         Non-trainable params\n",
      "4.8 M     Total params\n",
      "19.265    Total estimated model params size (MB)\n"
     ]
    },
    {
     "name": "stdout",
     "output_type": "stream",
     "text": [
      "Epoch 14: 100%|██████████| 782/782 [01:48<00:00,  7.23it/s, loss=0.317, v_num=77]\n",
      "ClearML Task: created new task id=eeac41b7074f4dde90004fc2fdb4d40f\n",
      "ClearML results page: https://app.community.clear.ml/projects/b62c3994002846a68db49133adfa829f/experiments/eeac41b7074f4dde90004fc2fdb4d40f/output/log\n",
      "2022-01-09 08:00:43,506 - clearml.Task - INFO - No repository found, storing script code instead\n"
     ]
    },
    {
     "name": "stderr",
     "output_type": "stream",
     "text": [
      "GPU available: True, used: True\n",
      "TPU available: False, using: 0 TPU cores\n",
      "IPU available: False, using: 0 IPUs\n",
      "LOCAL_RANK: 0 - CUDA_VISIBLE_DEVICES: [0]\n",
      "\n",
      "  | Name      | Type      | Params\n",
      "----------------------------------------\n",
      "0 | embedding | Embedding | 4.4 M \n",
      "1 | lstm      | LSTM      | 464 K \n",
      "2 | fc        | Linear    | 101   \n",
      "----------------------------------------\n",
      "4.8 M     Trainable params\n",
      "0         Non-trainable params\n",
      "4.8 M     Total params\n",
      "19.265    Total estimated model params size (MB)\n"
     ]
    },
    {
     "name": "stdout",
     "output_type": "stream",
     "text": [
      "Epoch 14: 100%|██████████| 782/782 [01:49<00:00,  7.17it/s, loss=0.245, v_num=78]\n",
      "ClearML Task: created new task id=4d48c50a4e534d14a51f0a2cc6575c55\n",
      "ClearML results page: https://app.community.clear.ml/projects/b62c3994002846a68db49133adfa829f/experiments/4d48c50a4e534d14a51f0a2cc6575c55/output/log\n",
      "2022-01-09 08:28:04,527 - clearml.Task - INFO - No repository found, storing script code instead\n"
     ]
    },
    {
     "name": "stderr",
     "output_type": "stream",
     "text": [
      "GPU available: True, used: True\n",
      "TPU available: False, using: 0 TPU cores\n",
      "IPU available: False, using: 0 IPUs\n",
      "LOCAL_RANK: 0 - CUDA_VISIBLE_DEVICES: [0]\n",
      "\n",
      "  | Name      | Type      | Params\n",
      "----------------------------------------\n",
      "0 | embedding | Embedding | 4.4 M \n",
      "1 | lstm      | LSTM      | 464 K \n",
      "2 | fc        | Linear    | 101   \n",
      "----------------------------------------\n",
      "4.8 M     Trainable params\n",
      "0         Non-trainable params\n",
      "4.8 M     Total params\n",
      "19.265    Total estimated model params size (MB)\n"
     ]
    },
    {
     "name": "stdout",
     "output_type": "stream",
     "text": [
      "Epoch 14: 100%|██████████| 782/782 [01:49<00:00,  7.12it/s, loss=0.554, v_num=79]\n",
      "ClearML Task: created new task id=d16450f6cab342f386eddfacc77b9d26\n",
      "ClearML results page: https://app.community.clear.ml/projects/b62c3994002846a68db49133adfa829f/experiments/d16450f6cab342f386eddfacc77b9d26/output/log\n",
      "2022-01-09 08:55:30,961 - clearml.Task - INFO - No repository found, storing script code instead\n"
     ]
    },
    {
     "name": "stderr",
     "output_type": "stream",
     "text": [
      "GPU available: True, used: True\n",
      "TPU available: False, using: 0 TPU cores\n",
      "IPU available: False, using: 0 IPUs\n",
      "LOCAL_RANK: 0 - CUDA_VISIBLE_DEVICES: [0]\n",
      "\n",
      "  | Name      | Type      | Params\n",
      "----------------------------------------\n",
      "0 | embedding | Embedding | 4.4 M \n",
      "1 | lstm      | LSTM      | 384 K \n",
      "2 | fc        | Linear    | 101   \n",
      "----------------------------------------\n",
      "4.7 M     Trainable params\n",
      "0         Non-trainable params\n",
      "4.7 M     Total params\n",
      "18.942    Total estimated model params size (MB)\n"
     ]
    },
    {
     "name": "stdout",
     "output_type": "stream",
     "text": [
      "Epoch 14: 100%|██████████| 782/782 [01:43<00:00,  7.59it/s, loss=0.261, v_num=80]\n",
      "ClearML Task: created new task id=2184bf82035c4cd79c442e1a1603e997\n",
      "ClearML results page: https://app.community.clear.ml/projects/b62c3994002846a68db49133adfa829f/experiments/2184bf82035c4cd79c442e1a1603e997/output/log\n",
      "2022-01-09 09:21:17,482 - clearml.Task - INFO - No repository found, storing script code instead\n"
     ]
    },
    {
     "name": "stderr",
     "output_type": "stream",
     "text": [
      "GPU available: True, used: True\n",
      "TPU available: False, using: 0 TPU cores\n",
      "IPU available: False, using: 0 IPUs\n",
      "LOCAL_RANK: 0 - CUDA_VISIBLE_DEVICES: [0]\n",
      "\n",
      "  | Name      | Type      | Params\n",
      "----------------------------------------\n",
      "0 | embedding | Embedding | 4.4 M \n",
      "1 | lstm      | LSTM      | 384 K \n",
      "2 | fc        | Linear    | 101   \n",
      "----------------------------------------\n",
      "4.7 M     Trainable params\n",
      "0         Non-trainable params\n",
      "4.7 M     Total params\n",
      "18.942    Total estimated model params size (MB)\n"
     ]
    },
    {
     "name": "stdout",
     "output_type": "stream",
     "text": [
      "Epoch 14: 100%|██████████| 782/782 [01:33<00:00,  8.33it/s, loss=0.131, v_num=81] \n",
      "ClearML Task: created new task id=095ebb60e20a446bb8e917192c14d127\n",
      "ClearML results page: https://app.community.clear.ml/projects/b62c3994002846a68db49133adfa829f/experiments/095ebb60e20a446bb8e917192c14d127/output/log\n",
      "2022-01-09 09:45:08,386 - clearml.Task - INFO - No repository found, storing script code instead\n"
     ]
    },
    {
     "name": "stderr",
     "output_type": "stream",
     "text": [
      "GPU available: True, used: True\n",
      "TPU available: False, using: 0 TPU cores\n",
      "IPU available: False, using: 0 IPUs\n",
      "LOCAL_RANK: 0 - CUDA_VISIBLE_DEVICES: [0]\n",
      "\n",
      "  | Name      | Type      | Params\n",
      "----------------------------------------\n",
      "0 | embedding | Embedding | 4.4 M \n",
      "1 | lstm      | LSTM      | 384 K \n",
      "2 | fc        | Linear    | 101   \n",
      "----------------------------------------\n",
      "4.7 M     Trainable params\n",
      "0         Non-trainable params\n",
      "4.7 M     Total params\n",
      "18.942    Total estimated model params size (MB)\n"
     ]
    },
    {
     "name": "stdout",
     "output_type": "stream",
     "text": [
      "Epoch 14: 100%|██████████| 782/782 [01:32<00:00,  8.44it/s, loss=0.38, v_num=82] \n",
      "ClearML Task: created new task id=e8a247d4782f4a20bdba4216ffe34e41\n",
      "ClearML results page: https://app.community.clear.ml/projects/b62c3994002846a68db49133adfa829f/experiments/e8a247d4782f4a20bdba4216ffe34e41/output/log\n",
      "2022-01-09 10:08:41,525 - clearml.Task - INFO - No repository found, storing script code instead\n"
     ]
    },
    {
     "name": "stderr",
     "output_type": "stream",
     "text": [
      "GPU available: True, used: True\n",
      "TPU available: False, using: 0 TPU cores\n",
      "IPU available: False, using: 0 IPUs\n",
      "LOCAL_RANK: 0 - CUDA_VISIBLE_DEVICES: [0]\n",
      "\n",
      "  | Name      | Type      | Params\n",
      "----------------------------------------\n",
      "0 | embedding | Embedding | 4.4 M \n",
      "1 | lstm      | LSTM      | 303 K \n",
      "2 | fc        | Linear    | 101   \n",
      "----------------------------------------\n",
      "4.7 M     Trainable params\n",
      "0         Non-trainable params\n",
      "4.7 M     Total params\n",
      "18.619    Total estimated model params size (MB)\n"
     ]
    },
    {
     "name": "stdout",
     "output_type": "stream",
     "text": [
      "Epoch 14: 100%|██████████| 782/782 [01:28<00:00,  8.88it/s, loss=0.256, v_num=83]\n",
      "ClearML Task: created new task id=4dc00e12927d4ea7b66d4954f345f404\n",
      "ClearML results page: https://app.community.clear.ml/projects/b62c3994002846a68db49133adfa829f/experiments/4dc00e12927d4ea7b66d4954f345f404/output/log\n",
      "2022-01-09 10:30:24,061 - clearml.Task - INFO - No repository found, storing script code instead\n"
     ]
    },
    {
     "name": "stderr",
     "output_type": "stream",
     "text": [
      "GPU available: True, used: True\n",
      "TPU available: False, using: 0 TPU cores\n",
      "IPU available: False, using: 0 IPUs\n",
      "LOCAL_RANK: 0 - CUDA_VISIBLE_DEVICES: [0]\n",
      "\n",
      "  | Name      | Type      | Params\n",
      "----------------------------------------\n",
      "0 | embedding | Embedding | 4.4 M \n",
      "1 | lstm      | LSTM      | 303 K \n",
      "2 | fc        | Linear    | 101   \n",
      "----------------------------------------\n",
      "4.7 M     Trainable params\n",
      "0         Non-trainable params\n",
      "4.7 M     Total params\n",
      "18.619    Total estimated model params size (MB)\n"
     ]
    },
    {
     "name": "stdout",
     "output_type": "stream",
     "text": [
      "Epoch 14: 100%|██████████| 782/782 [01:21<00:00,  9.59it/s, loss=0.125, v_num=84] \n",
      "ClearML Task: created new task id=7c9c0a08d54d4575813b8b6c9b731728\n",
      "ClearML results page: https://app.community.clear.ml/projects/b62c3994002846a68db49133adfa829f/experiments/7c9c0a08d54d4575813b8b6c9b731728/output/log\n",
      "2022-01-09 10:50:53,694 - clearml.Task - INFO - No repository found, storing script code instead\n"
     ]
    },
    {
     "name": "stderr",
     "output_type": "stream",
     "text": [
      "GPU available: True, used: True\n",
      "TPU available: False, using: 0 TPU cores\n",
      "IPU available: False, using: 0 IPUs\n",
      "LOCAL_RANK: 0 - CUDA_VISIBLE_DEVICES: [0]\n",
      "\n",
      "  | Name      | Type      | Params\n",
      "----------------------------------------\n",
      "0 | embedding | Embedding | 4.4 M \n",
      "1 | lstm      | LSTM      | 303 K \n",
      "2 | fc        | Linear    | 101   \n",
      "----------------------------------------\n",
      "4.7 M     Trainable params\n",
      "0         Non-trainable params\n",
      "4.7 M     Total params\n",
      "18.619    Total estimated model params size (MB)\n"
     ]
    },
    {
     "name": "stdout",
     "output_type": "stream",
     "text": [
      "Epoch 14: 100%|██████████| 782/782 [01:20<00:00,  9.75it/s, loss=0.393, v_num=85]\n",
      "ClearML Task: created new task id=07c53b64dd1742129b1c23a8716c8ead\n",
      "ClearML results page: https://app.community.clear.ml/projects/b62c3994002846a68db49133adfa829f/experiments/07c53b64dd1742129b1c23a8716c8ead/output/log\n",
      "2022-01-09 11:11:16,668 - clearml.Task - INFO - No repository found, storing script code instead\n"
     ]
    },
    {
     "name": "stderr",
     "output_type": "stream",
     "text": [
      "GPU available: True, used: True\n",
      "TPU available: False, using: 0 TPU cores\n",
      "IPU available: False, using: 0 IPUs\n",
      "LOCAL_RANK: 0 - CUDA_VISIBLE_DEVICES: [0]\n",
      "\n",
      "  | Name      | Type      | Params\n",
      "----------------------------------------\n",
      "0 | embedding | Embedding | 4.4 M \n",
      "1 | lstm      | LSTM      | 266 K \n",
      "2 | fc        | Linear    | 76    \n",
      "----------------------------------------\n",
      "4.6 M     Trainable params\n",
      "0         Non-trainable params\n",
      "4.6 M     Total params\n",
      "18.470    Total estimated model params size (MB)\n"
     ]
    },
    {
     "name": "stdout",
     "output_type": "stream",
     "text": [
      "Epoch 14: 100%|██████████| 782/782 [01:56<00:00,  6.69it/s, loss=0.276, v_num=86]\n",
      "ClearML Task: created new task id=12a3982eea6f43808d550b55fbed48eb\n",
      "ClearML results page: https://app.community.clear.ml/projects/b62c3994002846a68db49133adfa829f/experiments/12a3982eea6f43808d550b55fbed48eb/output/log\n",
      "2022-01-09 11:40:37,649 - clearml.Task - INFO - No repository found, storing script code instead\n"
     ]
    },
    {
     "name": "stderr",
     "output_type": "stream",
     "text": [
      "GPU available: True, used: True\n",
      "TPU available: False, using: 0 TPU cores\n",
      "IPU available: False, using: 0 IPUs\n",
      "LOCAL_RANK: 0 - CUDA_VISIBLE_DEVICES: [0]\n",
      "\n",
      "  | Name      | Type      | Params\n",
      "----------------------------------------\n",
      "0 | embedding | Embedding | 4.4 M \n",
      "1 | lstm      | LSTM      | 266 K \n",
      "2 | fc        | Linear    | 76    \n",
      "----------------------------------------\n",
      "4.6 M     Trainable params\n",
      "0         Non-trainable params\n",
      "4.6 M     Total params\n",
      "18.470    Total estimated model params size (MB)\n"
     ]
    },
    {
     "name": "stdout",
     "output_type": "stream",
     "text": [
      "Epoch 14: 100%|██████████| 782/782 [01:56<00:00,  6.72it/s, loss=0.14, v_num=87]  \n",
      "ClearML Task: created new task id=f50bad4444a841a29af1962f45eb58a3\n",
      "ClearML results page: https://app.community.clear.ml/projects/b62c3994002846a68db49133adfa829f/experiments/f50bad4444a841a29af1962f45eb58a3/output/log\n",
      "2022-01-09 12:09:58,634 - clearml.Task - INFO - No repository found, storing script code instead\n"
     ]
    },
    {
     "name": "stderr",
     "output_type": "stream",
     "text": [
      "GPU available: True, used: True\n",
      "TPU available: False, using: 0 TPU cores\n",
      "IPU available: False, using: 0 IPUs\n",
      "LOCAL_RANK: 0 - CUDA_VISIBLE_DEVICES: [0]\n",
      "\n",
      "  | Name      | Type      | Params\n",
      "----------------------------------------\n",
      "0 | embedding | Embedding | 4.4 M \n",
      "1 | lstm      | LSTM      | 266 K \n",
      "2 | fc        | Linear    | 76    \n",
      "----------------------------------------\n",
      "4.6 M     Trainable params\n",
      "0         Non-trainable params\n",
      "4.6 M     Total params\n",
      "18.470    Total estimated model params size (MB)\n"
     ]
    },
    {
     "name": "stdout",
     "output_type": "stream",
     "text": [
      "Epoch 14: 100%|██████████| 782/782 [01:56<00:00,  6.71it/s, loss=0.452, v_num=88]\n",
      "ClearML Task: created new task id=2287c5bbd3f94b4fa0d7998ef84e60b2\n",
      "ClearML results page: https://app.community.clear.ml/projects/b62c3994002846a68db49133adfa829f/experiments/2287c5bbd3f94b4fa0d7998ef84e60b2/output/log\n",
      "2022-01-09 12:39:18,591 - clearml.Task - INFO - No repository found, storing script code instead\n"
     ]
    },
    {
     "name": "stderr",
     "output_type": "stream",
     "text": [
      "GPU available: True, used: True\n",
      "TPU available: False, using: 0 TPU cores\n",
      "IPU available: False, using: 0 IPUs\n",
      "LOCAL_RANK: 0 - CUDA_VISIBLE_DEVICES: [0]\n",
      "\n",
      "  | Name      | Type      | Params\n",
      "----------------------------------------\n",
      "0 | embedding | Embedding | 4.4 M \n",
      "1 | lstm      | LSTM      | 220 K \n",
      "2 | fc        | Linear    | 76    \n",
      "----------------------------------------\n",
      "4.6 M     Trainable params\n",
      "0         Non-trainable params\n",
      "4.6 M     Total params\n",
      "18.288    Total estimated model params size (MB)\n"
     ]
    },
    {
     "name": "stdout",
     "output_type": "stream",
     "text": [
      "Epoch 14: 100%|██████████| 782/782 [01:32<00:00,  8.48it/s, loss=0.596, v_num=89]\n",
      "ClearML Task: created new task id=ab9574c1877b41d780e13158deaa7f25\n",
      "ClearML results page: https://app.community.clear.ml/projects/b62c3994002846a68db49133adfa829f/experiments/ab9574c1877b41d780e13158deaa7f25/output/log\n",
      "2022-01-09 13:02:39,437 - clearml.Task - INFO - No repository found, storing script code instead\n"
     ]
    },
    {
     "name": "stderr",
     "output_type": "stream",
     "text": [
      "GPU available: True, used: True\n",
      "TPU available: False, using: 0 TPU cores\n",
      "IPU available: False, using: 0 IPUs\n",
      "LOCAL_RANK: 0 - CUDA_VISIBLE_DEVICES: [0]\n",
      "\n",
      "  | Name      | Type      | Params\n",
      "----------------------------------------\n",
      "0 | embedding | Embedding | 4.4 M \n",
      "1 | lstm      | LSTM      | 220 K \n",
      "2 | fc        | Linear    | 76    \n",
      "----------------------------------------\n",
      "4.6 M     Trainable params\n",
      "0         Non-trainable params\n",
      "4.6 M     Total params\n",
      "18.288    Total estimated model params size (MB)\n"
     ]
    },
    {
     "name": "stdout",
     "output_type": "stream",
     "text": [
      "Epoch 14: 100%|██████████| 782/782 [01:31<00:00,  8.51it/s, loss=0.134, v_num=90] \n",
      "2022-01-09 13:25:53,810 - clearml.Task - INFO - Waiting to finish uploads\n",
      "2022-01-09 13:25:54,167 - clearml.Task - INFO - Finished uploading\n",
      "ClearML Task: created new task id=1b305a21f6dd4db2b9c124d3c8e3e682\n",
      "ClearML results page: https://app.community.clear.ml/projects/b62c3994002846a68db49133adfa829f/experiments/1b305a21f6dd4db2b9c124d3c8e3e682/output/log\n",
      "2022-01-09 13:26:01,910 - clearml.Task - INFO - No repository found, storing script code instead\n"
     ]
    },
    {
     "name": "stderr",
     "output_type": "stream",
     "text": [
      "GPU available: True, used: True\n",
      "TPU available: False, using: 0 TPU cores\n",
      "IPU available: False, using: 0 IPUs\n",
      "LOCAL_RANK: 0 - CUDA_VISIBLE_DEVICES: [0]\n",
      "\n",
      "  | Name      | Type      | Params\n",
      "----------------------------------------\n",
      "0 | embedding | Embedding | 4.4 M \n",
      "1 | lstm      | LSTM      | 220 K \n",
      "2 | fc        | Linear    | 76    \n",
      "----------------------------------------\n",
      "4.6 M     Trainable params\n",
      "0         Non-trainable params\n",
      "4.6 M     Total params\n",
      "18.288    Total estimated model params size (MB)\n"
     ]
    },
    {
     "name": "stdout",
     "output_type": "stream",
     "text": [
      "Epoch 14: 100%|██████████| 782/782 [01:31<00:00,  8.50it/s, loss=0.489, v_num=91]\n",
      "ClearML Task: created new task id=27a2a672ae7e4e93805683a11adf157e\n",
      "ClearML results page: https://app.community.clear.ml/projects/b62c3994002846a68db49133adfa829f/experiments/27a2a672ae7e4e93805683a11adf157e/output/log\n",
      "2022-01-09 13:50:14,673 - clearml.Task - INFO - No repository found, storing script code instead\n"
     ]
    },
    {
     "name": "stderr",
     "output_type": "stream",
     "text": [
      "GPU available: True, used: True\n",
      "TPU available: False, using: 0 TPU cores\n",
      "IPU available: False, using: 0 IPUs\n",
      "LOCAL_RANK: 0 - CUDA_VISIBLE_DEVICES: [0]\n",
      "\n",
      "  | Name      | Type      | Params\n",
      "----------------------------------------\n",
      "0 | embedding | Embedding | 4.4 M \n",
      "1 | lstm      | LSTM      | 174 K \n",
      "2 | fc        | Linear    | 76    \n",
      "----------------------------------------\n",
      "4.5 M     Trainable params\n",
      "0         Non-trainable params\n",
      "4.5 M     Total params\n",
      "18.106    Total estimated model params size (MB)\n"
     ]
    },
    {
     "name": "stdout",
     "output_type": "stream",
     "text": [
      "Epoch 14: 100%|██████████| 782/782 [01:17<00:00, 10.12it/s, loss=0.247, v_num=92]\n",
      "ClearML Task: created new task id=b9c679bc2a354348994ce77710475ec4\n",
      "ClearML results page: https://app.community.clear.ml/projects/b62c3994002846a68db49133adfa829f/experiments/b9c679bc2a354348994ce77710475ec4/output/log\n",
      "2022-01-09 14:09:46,861 - clearml.Task - INFO - No repository found, storing script code instead\n"
     ]
    },
    {
     "name": "stderr",
     "output_type": "stream",
     "text": [
      "GPU available: True, used: True\n",
      "TPU available: False, using: 0 TPU cores\n",
      "IPU available: False, using: 0 IPUs\n",
      "LOCAL_RANK: 0 - CUDA_VISIBLE_DEVICES: [0]\n",
      "\n",
      "  | Name      | Type      | Params\n",
      "----------------------------------------\n",
      "0 | embedding | Embedding | 4.4 M \n",
      "1 | lstm      | LSTM      | 174 K \n",
      "2 | fc        | Linear    | 76    \n",
      "----------------------------------------\n",
      "4.5 M     Trainable params\n",
      "0         Non-trainable params\n",
      "4.5 M     Total params\n",
      "18.106    Total estimated model params size (MB)\n"
     ]
    },
    {
     "name": "stdout",
     "output_type": "stream",
     "text": [
      "Epoch 14: 100%|██████████| 782/782 [01:17<00:00, 10.08it/s, loss=0.117, v_num=93] \n",
      "ClearML Task: created new task id=1425eeb729474e2bb2dabd62eb5b6f22\n",
      "ClearML results page: https://app.community.clear.ml/projects/b62c3994002846a68db49133adfa829f/experiments/1425eeb729474e2bb2dabd62eb5b6f22/output/log\n",
      "2022-01-09 14:29:22,317 - clearml.Task - INFO - No repository found, storing script code instead\n"
     ]
    },
    {
     "name": "stderr",
     "output_type": "stream",
     "text": [
      "GPU available: True, used: True\n",
      "TPU available: False, using: 0 TPU cores\n",
      "IPU available: False, using: 0 IPUs\n",
      "LOCAL_RANK: 0 - CUDA_VISIBLE_DEVICES: [0]\n",
      "\n",
      "  | Name      | Type      | Params\n",
      "----------------------------------------\n",
      "0 | embedding | Embedding | 4.4 M \n",
      "1 | lstm      | LSTM      | 174 K \n",
      "2 | fc        | Linear    | 76    \n",
      "----------------------------------------\n",
      "4.5 M     Trainable params\n",
      "0         Non-trainable params\n",
      "4.5 M     Total params\n",
      "18.106    Total estimated model params size (MB)\n"
     ]
    },
    {
     "name": "stdout",
     "output_type": "stream",
     "text": [
      "Epoch 14: 100%|██████████| 782/782 [01:18<00:00,  9.98it/s, loss=0.412, v_num=94]\n",
      "2022-01-09 14:49:02,719 - clearml.Task - INFO - Waiting to finish uploads\n",
      "2022-01-09 14:49:03,440 - clearml.Task - INFO - Finished uploading\n"
     ]
    }
   ],
   "source": [
    "config = {\n",
    "    'lr': .0001,\n",
    "    'hidden_dim': 200,\n",
    "    'layers_count': 6,\n",
    "    'embedding_dim': 50,\n",
    "    'batch_size': 64,\n",
    "    'n_epochs': 15,\n",
    "}\n",
    "\n",
    "for HIDDEN_DIM in [200, 100, 75]:\n",
    "    for LAYERS_COUNT in [6, 5, 4]:\n",
    "        for LR in [.0001, .0003, .00003]:\n",
    "            config['hidden_dim'] = HIDDEN_DIM\n",
    "            config['layers_count'] = LAYERS_COUNT\n",
    "            config['lr'] = LR\n",
    "\n",
    "            task = Task.init(project_name='lightning2', task_name='lightning example')\n",
    "            task.connect(config)\n",
    "\n",
    "            trainer = Trainer(gpus=1 if torch.cuda.is_available() else 0, max_epochs=config['n_epochs'])\n",
    "            model = LSTMSentimentTagger(vocab_size=naive_vectorizer.vocab_size, classes=1, \n",
    "                                        embedding_dim=config['embedding_dim'], \n",
    "                                        hidden_dim=config['hidden_dim'], \n",
    "                                        layers_count=config['layers_count'],\n",
    "                                        lr=config['lr'], \n",
    "                                        batch_size=config['batch_size'])\n",
    "            trainer.fit(model)\n",
    "            task.mark_completed()\n",
    "            task.close()\n",
    "\n"
   ]
  },
  {
   "cell_type": "code",
   "execution_count": null,
   "metadata": {},
   "outputs": [],
   "source": [
    "# Save the vectorizer\n",
    "\n",
    "# import pickle\n",
    "\n",
    "# with open('vectorizer.p', 'wb') as f:\n",
    "#     pickle.dump(naive_vectorizer, f)"
   ]
  },
  {
   "cell_type": "code",
   "execution_count": 41,
   "metadata": {},
   "outputs": [],
   "source": [
    "# Best model (on val/test set) out of all training sessions\n",
    "\n",
    "task = Task.get_task('4dc00e12927d4ea7b66d4954f345f404')\n",
    "clearml_model = Model('79b4c50e2cd444b79b18e25a56efc6bb')\n",
    "# model = LSTMSentimentTagger.load_from_checkpoint(clearml_model.url)\n",
    "model = LSTMSentimentTagger.load_from_checkpoint('./model.ckpt')"
   ]
  },
  {
   "cell_type": "code",
   "execution_count": 11,
   "metadata": {},
   "outputs": [
    {
     "data": {
      "text/plain": [
       "LSTMSentimentTagger(\n",
       "  (embedding): Embedding(87028, 50)\n",
       "  (lstm): LSTM(50, 100, num_layers=4, batch_first=True)\n",
       "  (fc): Linear(in_features=100, out_features=1, bias=True)\n",
       ")"
      ]
     },
     "execution_count": 11,
     "metadata": {},
     "output_type": "execute_result"
    }
   ],
   "source": [
    "model"
   ]
  },
  {
   "cell_type": "code",
   "execution_count": 12,
   "metadata": {},
   "outputs": [
    {
     "name": "stderr",
     "output_type": "stream",
     "text": [
      "GPU available: True, used: True\n",
      "TPU available: False, using: 0 TPU cores\n",
      "IPU available: False, using: 0 IPUs\n"
     ]
    },
    {
     "name": "stdout",
     "output_type": "stream",
     "text": [
      ".......................................................................................................................................................................................................................................................................................................................................................................................................\n",
      "Model accuracy on test set: 87.37999725341797%\n"
     ]
    }
   ],
   "source": [
    "trainer = Trainer(gpus=1 if torch.cuda.is_available() else 0)\n",
    "\n",
    "test_data_loader = DataLoader(test_set, model.batch_size, collate_fn=custom_collate_fn, num_workers=8)\n",
    "\n",
    "model.eval()\n",
    "correct_predictions = 0\n",
    "all_predictions = 0\n",
    "for batch in test_data_loader:\n",
    "    seqs, lengths, labels = batch\n",
    "    logits = model(seqs, lengths)\n",
    "    correct_predictions += get_number_of_correct_predictions(logits, labels)\n",
    "    all_predictions += labels.shape[0]\n",
    "    print('.', end='')\n",
    "print()\n",
    "print(f\"Model accuracy on test set: {(correct_predictions / all_predictions) * 100}%\")"
   ]
  },
  {
   "cell_type": "code",
   "execution_count": 36,
   "metadata": {},
   "outputs": [],
   "source": [
    "scalars = task.get_reported_scalars()\n",
    "\n",
    "def save_plot(scalars, key):\n",
    "    actual_dict = scalars[key][key]\n",
    "    x = actual_dict['x']\n",
    "    y = actual_dict['y']\n",
    "    fig = px.line(x=x, y=y, title=key)\n",
    "    fig.write_image(f'./images/{key}.png')\n",
    "\n",
    "save_plot(scalars, 'val_correct_epoch')\n",
    "save_plot(scalars, 'val_correct_step')\n",
    "save_plot(scalars, 'val_loss_epoch')\n",
    "save_plot(scalars, 'val_loss_step')\n",
    "\n",
    "save_plot(scalars, 'train_correct_epoch')\n",
    "save_plot(scalars, 'train_correct_step')\n",
    "save_plot(scalars, 'train_loss_epoch')\n",
    "save_plot(scalars, 'train_loss_step')"
   ]
  }
 ],
 "metadata": {
  "accelerator": "GPU",
  "colab": {
   "collapsed_sections": [],
   "name": "Copy of  GSN 2021/22 - Homework RNN - student version.ipynb",
   "provenance": []
  },
  "kernelspec": {
   "display_name": "Python 3 (ipykernel)",
   "language": "python",
   "name": "python3"
  },
  "language_info": {
   "codemirror_mode": {
    "name": "ipython",
    "version": 3
   },
   "file_extension": ".py",
   "mimetype": "text/x-python",
   "name": "python",
   "nbconvert_exporter": "python",
   "pygments_lexer": "ipython3",
   "version": "3.8.10"
  }
 },
 "nbformat": 4,
 "nbformat_minor": 1
}
